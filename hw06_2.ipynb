{
 "cells": [
  {
   "cell_type": "code",
   "execution_count": 8,
   "id": "23285b2c",
   "metadata": {},
   "outputs": [],
   "source": [
    "import numpy as np\n",
    "from kinematics import SerialArm\n",
    "from visualization import VizScene\n",
    "\n",
    "np.set_printoptions(precision=4, suppress=True)"
   ]
  },
  {
   "cell_type": "code",
   "execution_count": 9,
   "id": "c23c5c0d",
   "metadata": {},
   "outputs": [
    {
     "name": "stdout",
     "output_type": "stream",
     "text": [
      "DH Parameters:\n",
      "Serial Arm: DH Parameters\n",
      "┌—————————┬—————————┬—————————┬—————————┬—————————┐\n",
      "|    θ    |    d    |    a    |    α    |    jt   |\n",
      "|—————————|—————————|—————————|—————————|—————————|\n",
      "|    0    |   0.2   |    0.   |  -1.571 |    r    |\n",
      "|    0    |    0    |   0.2   |    0    |    r    |\n",
      "|  1.571  |    0    |    0    |  1.571  |    r    |\n",
      "|  1.571  |   0.4   |    0    |  -1.571 |    r    |\n",
      "|    0    |    0    |    0    |  1.571  |    r    |\n",
      "|    0    |   0.4   |    0    |    0    |    r    |\n",
      "└—————————┴—————————┴—————————┴—————————┴—————————┘\n",
      "\n"
     ]
    }
   ],
   "source": [
    "# Problem 2a - Define the 6-DOF Robot Arm\n",
    "\n",
    "# DH parameters from table [theta, d, a, alpha]\n",
    "\n",
    "dh_params = [\n",
    "    [0, 0.2, 0.0, -np.pi/2],\n",
    "    [0, 0, 0.2, 0],\n",
    "    [np.pi/2, 0, 0, np.pi/2],\n",
    "    [np.pi/2, 0.4, 0, -np.pi/2],\n",
    "    [0, 0, 0, np.pi/2],\n",
    "    [0, 0.4, 0, 0]\n",
    "]\n",
    "\n",
    "joint_types = ['r', 'r', 'r', 'r', 'r', 'r']  # All revolute joints\n",
    "arm = SerialArm(dh_params, joint_types)\n",
    "\n",
    "# print arm's dh table to verify\n",
    "print(\"DH Parameters:\")\n",
    "print(arm)"
   ]
  },
  {
   "cell_type": "code",
   "execution_count": 10,
   "id": "063c4481",
   "metadata": {},
   "outputs": [],
   "source": [
    "# Problem 2b - Basic Visualization\n",
    "\n",
    "viz_base = VizScene()\n",
    "\n",
    "viz_base.add_arm(arm)\n",
    "\n",
    "q_zer0 = np.zeros(6)\n",
    "\n",
    "viz_base.update(qs = q_zer0)\n",
    "\n",
    "viz_base.hold()  # Keep the window open\n"
   ]
  },
  {
   "cell_type": "code",
   "execution_count": 11,
   "id": "2671c199",
   "metadata": {},
   "outputs": [],
   "source": [
    "# Problem 2c - Test Functionality w/ Marker\n",
    "viz_base = VizScene()\n",
    "\n",
    "viz_base.add_arm(arm)\n",
    "\n",
    "q_zer0 = np.zeros(6)\n",
    "\n",
    "viz_base.update(qs = q_zer0)\n",
    "\n",
    "goal = [0.1, 0.1, 0.1]\n",
    "viz_base.add_marker(goal)\n",
    "viz_base.hold()  # Keep the window open"
   ]
  },
  {
   "cell_type": "code",
   "execution_count": 12,
   "id": "f3d0b929",
   "metadata": {},
   "outputs": [
    {
     "name": "stdout",
     "output_type": "stream",
     "text": [
      "Testing with joint configuration q = \n",
      "[ 0.7854 -0.5236  0.3927  1.5708  1.0472 -0.7854]\n",
      "\n",
      "Calculated end-effector position p = \n",
      "[0.5111 0.5111 0.7218]\n"
     ]
    }
   ],
   "source": [
    "# Problem 2c - Test Functionality with a Marker\n",
    "\n",
    "q_test = np.array([np.pi/4, -np.pi/6, np.pi/8, np.pi/2, np.pi/3, -np.pi/4])\n",
    "\n",
    "T_end_effector = arm.fk(q_test)\n",
    "goal_position = T_end_effector[:3, 3]\n",
    "\n",
    "print(f\"Testing with joint configuration q = \\n{q_test}\")\n",
    "print(f\"\\nCalculated end-effector position p = \\n{goal_position}\")\n",
    "\n",
    "viz_c = VizScene()\n",
    "\n",
    "viz_c.add_arm(arm, draw_frames=False) # draw_frames can be distracting, turning off\n",
    "\n",
    "viz_c.add_marker(goal_position, color=[0, 0.8, 0.1, 1.0]) # A bright green marker\n",
    "\n",
    "viz_c.update(qs=[q_test])\n",
    "\n",
    "viz_c.hold()"
   ]
  }
 ],
 "metadata": {
  "kernelspec": {
   "display_name": ".venv",
   "language": "python",
   "name": "python3"
  },
  "language_info": {
   "codemirror_mode": {
    "name": "ipython",
    "version": 3
   },
   "file_extension": ".py",
   "mimetype": "text/x-python",
   "name": "python",
   "nbconvert_exporter": "python",
   "pygments_lexer": "ipython3",
   "version": "3.12.5"
  }
 },
 "nbformat": 4,
 "nbformat_minor": 5
}
