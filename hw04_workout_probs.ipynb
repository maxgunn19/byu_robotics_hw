{
 "cells": [
  {
   "cell_type": "markdown",
   "id": "7a17e42a",
   "metadata": {},
   "source": [
    "## **HW 4 Problems** ##"
   ]
  },
  {
   "cell_type": "code",
   "execution_count": 14,
   "id": "f7e3524f",
   "metadata": {},
   "outputs": [],
   "source": [
    "import numpy as np\n",
    "import transforms as tf\n",
    "import sympy as sp"
   ]
  },
  {
   "cell_type": "markdown",
   "id": "e518fce2",
   "metadata": {},
   "source": [
    "**Problem 2**"
   ]
  },
  {
   "cell_type": "markdown",
   "id": "48fccec8",
   "metadata": {},
   "source": [
    "Let R represent a **rotation of 90 about y_0** followed by a **rotation of 45 about z_1**.  \n",
    "(a) Find the equivalent **axis/angle to represent R**. **Sketch** the initial and final frames and the equivalent axis vector r.   \n"
   ]
  },
  {
   "cell_type": "code",
   "execution_count": 12,
   "id": "f1c9b3bf",
   "metadata": {},
   "outputs": [
    {
     "name": "stdout",
     "output_type": "stream",
     "text": [
      "Rotation Matrix R:\n",
      " [[ 0.          0.          1.        ]\n",
      " [ 0.70710678  0.70710678  0.        ]\n",
      " [-0.70710678  0.70710678  0.        ]]\n",
      "\n",
      "(a) Axis/Angle Representation:\n",
      "Angle (radians): 1.7178\n",
      "Angle (degrees): 98.42\n"
     ]
    }
   ],
   "source": [
    "R = np.eye(3)\n",
    "R = R @ tf.roty(np.pi/2)  # 90 deg about y_0\n",
    "R = R @ tf.rotz(np.pi/4)  # 45 deg about z_1\n",
    "print(\"Rotation Matrix R:\\n\", R)\n",
    "\n",
    "# (a) Axis/Angle Representation\n",
    "axis_angle_data = tf.R2axis(R)\n",
    "\n",
    "angle_rad = axis_angle_data[0]\n",
    "axis = axis_angle_data[1:4]\n",
    "\n",
    "print(f\"\\n(a) Axis/Angle Representation:\")\n",
    "print(f\"Angle (radians): {angle_rad:.4f}\")\n",
    "print(f\"Angle (degrees): {np.degrees(angle_rad):.2f}\")"
   ]
  },
  {
   "cell_type": "markdown",
   "id": "8f8af6b8",
   "metadata": {},
   "source": [
    "(b) Also find the **equivalent quaternion represntation**"
   ]
  },
  {
   "cell_type": "code",
   "execution_count": 13,
   "id": "e0a45d49",
   "metadata": {},
   "outputs": [
    {
     "name": "stdout",
     "output_type": "stream",
     "text": [
      "Equivalent Quaternion Representation (nu, ex, ey, ez):\n",
      " [0.65328148 0.27059805 0.65328148 0.27059805]\n"
     ]
    }
   ],
   "source": [
    "quaternion = tf.R2quat(R)\n",
    "\n",
    "print(\"Equivalent Quaternion Representation (nu, ex, ey, ez):\\n\", quaternion)"
   ]
  },
  {
   "cell_type": "markdown",
   "id": "64c3e242",
   "metadata": {},
   "source": [
    "**Problem 3**"
   ]
  },
  {
   "cell_type": "markdown",
   "id": "1caa4ebb",
   "metadata": {},
   "source": [
    "I strongly suggest **SymPy** for this problem. Using three variables to represent **yaw**, **pitch**, and **roll** angles, ($\\psi$, $\\theta$, $\\phi$), do the following (assuming a rotation about z, then y, then x for current axis convention -- this woudl be identical to a rotation about x, then y, then z in a fixed frame convention):"
   ]
  },
  {
   "cell_type": "markdown",
   "id": "83b2ca66",
   "metadata": {},
   "source": [
    "(a) compute a rotation matrix (you may use code from the posted solution for HW02 for symbolic version of rotx, roty, and rotz functions).  "
   ]
  },
  {
   "cell_type": "code",
   "execution_count": null,
   "id": "74335507",
   "metadata": {},
   "outputs": [],
   "source": [
    "sp.init_printing(use_unicode=True)\n",
    "\n",
    "psi, theta, phi = sp.symbols('psi theta phi')\n",
    "\n",
    "Rz = sp.Matrix([[sp.cos(psi), -sp.sin(psi), 0],\n",
    "                [sp.sin(psi), sp.cos(psi), 0],  \n",
    "                [0, 0, 1]])\n",
    "Ry = sp.Matrix([[sp.cos(theta), 0, sp.sin(theta)],\n",
    "                [0, 1, 0],\n",
    "                [-sp.sin(theta), 0, sp.cos(theta)]])\n",
    "Rx = sp.Matrix([[1, 0, 0],\n",
    "                [0, sp.cos(phi), -sp.sin(phi)],\n",
    "                [0, sp.sin(phi), sp.cos(phi)]])"
   ]
  },
  {
   "cell_type": "markdown",
   "id": "1f3056b0",
   "metadata": {},
   "source": [
    "(b) Use this to transfrom a unit vector in the z-direction."
   ]
  },
  {
   "cell_type": "code",
   "execution_count": null,
   "id": "44741155",
   "metadata": {},
   "outputs": [],
   "source": [
    "unit_Vector_z = sp.Matrix([0, 0, 1])\n",
    "R_sym = Rz * Ry * Rx\n",
    "unit_Vector_z_rotated = R_sym * unit_Vector_z\n",
    "\n",
    "print(\"\\nSymbolic Rotated Unit Vector along z-axis:\")\n",
    "unit_Vector_z_rotated"
   ]
  },
  {
   "cell_type": "markdown",
   "id": "625c0fd8",
   "metadata": {},
   "source": [
    "(c) Looking at the elements of the rotation matrix devise an algorithm to determine the angles ($\\psi$, $\\theta$, $\\phi$). Hint -- find the pitch angle first.  "
   ]
  },
  {
   "cell_type": "code",
   "execution_count": null,
   "id": "dd8886b3",
   "metadata": {},
   "outputs": [],
   "source": [
    "# Algorithm to devise angles\n",
    "\n",
    "def find_euler_angles(R):\n",
    "    if abs(R[2,0]) != 1:\n",
    "        theta1 = -np.arcsin(R[2,0])\n",
    "        theta2 = np.pi - theta1\n",
    "\n",
    "        psi1 = np.arctan2(R[2,1]/np.cos(theta1), R[2,2]/np.cos(theta1))\n",
    "        psi2 = np.arctan2(R[2,1]/np.cos(theta2), R[2,2]/np.cos(theta2))\n",
    "\n",
    "        phi1 = np.arctan2(R[1,0]/np.cos(theta1), R[0,0]/np.cos(theta1))\n",
    "        phi2 = np.arctan2(R[1,0]/np.cos(theta2), R[0,0]/np.cos(theta2))\n",
    "\n",
    "        return (psi1, theta1, phi1), (psi2, theta2, phi2)\n",
    "    else:\n",
    "        phi = 0\n",
    "        if R[2,0] == -1:\n",
    "            theta = np.pi/2\n",
    "            psi = phi + np.arctan2(R[0,1], R[0,2])\n",
    "        else:\n",
    "            theta = -np.pi/2\n",
    "            psi = -phi + np.arctan2(-R[0,1], -R[0,2])\n",
    "        return (psi, theta, phi),\n",
    "\n",
    "# Testing\n",
    "theta = np.pi/4  # 45 degrees\n",
    "phi = np.pi/6    # 30 degrees\n",
    "psi = np.pi/3    # 60 degrees\n",
    "\n",
    "R_test = tf.rotz(psi) @ tf.roty(theta) @ tf.rotx(phi)\n",
    "angles = find_euler_angles(R_test)\n",
    "print(\"\\n(c) Computed Euler Angles (degrees):\")\n",
    "for angle_set in angles:\n",
    "    # Convert angles to degrees for better readability\n",
    "    print(f\"psi: {np.degrees(angle_set[0]):.2f}, theta: {np.degrees(angle_set[1]):.2f}, phi: {np.degrees(angle_set[2]):.2f}\")"
   ]
  }
 ],
 "metadata": {
  "kernelspec": {
   "display_name": ".venv",
   "language": "python",
   "name": "python3"
  },
  "language_info": {
   "codemirror_mode": {
    "name": "ipython",
    "version": 3
   },
   "file_extension": ".py",
   "mimetype": "text/x-python",
   "name": "python",
   "nbconvert_exporter": "python",
   "pygments_lexer": "ipython3",
   "version": "3.11.9"
  }
 },
 "nbformat": 4,
 "nbformat_minor": 5
}
