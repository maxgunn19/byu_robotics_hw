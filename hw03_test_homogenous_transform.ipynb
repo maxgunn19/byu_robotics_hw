{
 "cells": [
  {
   "cell_type": "markdown",
   "metadata": {},
   "source": [
    "# HW 3: Introduction and Setup\n",
    "* Copy the contents of the file \"transforms_hw03.py\" to the bottom of your \"transforms.py\" file.\n",
    "* Complete the function definitions for \"se3\" and \"inv\" \n",
    "* Run this notebook and check the outputs to make sure everything matches. If your code is correct, the output should exactly match the homogenous transformation matrices shown below. \n",
    "* Make sure to review each cell and think about what the operation means. Does it make sense? If not, ask about it on Piazza or in office hours. "
   ]
  },
  {
   "cell_type": "code",
   "execution_count": 1,
   "metadata": {},
   "outputs": [],
   "source": [
    "import transforms as tr\n",
    "import numpy as np\n",
    "from visualization import VizScene"
   ]
  },
  {
   "cell_type": "markdown",
   "metadata": {},
   "source": [
    "## Homogeneous matrix made of only rotation about z-axis by amount $\\frac{\\pi}{4}$\n",
    "\n",
    "Rotation by amount theta around the z-axis should give the following:\n",
    "$$\n",
    "\\left[\\begin{matrix}0.707 & -0.707 & 0 & 0\\\\ 0.707 & 0.707 & 0 & 0\\\\0 & 0 & 1 & 0\\\\0 & 0 & 0 & 1\\end{matrix}\\right]\n",
    "$$"
   ]
  },
  {
   "cell_type": "code",
   "execution_count": 6,
   "metadata": {},
   "outputs": [
    {
     "name": "stdout",
     "output_type": "stream",
     "text": [
      "[[ 0.707 -0.707  0.     0.   ]\n",
      " [ 0.707  0.707  0.     0.   ]\n",
      " [ 0.     0.     1.     0.   ]\n",
      " [ 0.     0.     0.     1.   ]]\n"
     ]
    }
   ],
   "source": [
    "T = tr.se3(tr.rotz(np.pi/4))\n",
    "T = np.round(T, 3)\n",
    "print(T)\n"
   ]
  },
  {
   "cell_type": "markdown",
   "metadata": {},
   "source": [
    "## Translation only along the x-axis by an amount $0.5$ should give the following:\n",
    "$$\n",
    "\\left[\\begin{matrix}1 & 0 & 0 & 0.5 \\\\0 & 1 & 0 & 0\\\\0 & 0 & 1 & 0\\\\0 & 0 & 0 & 1\\end{matrix}\\right]\n",
    "$$"
   ]
  },
  {
   "cell_type": "code",
   "execution_count": 3,
   "metadata": {},
   "outputs": [
    {
     "name": "stdout",
     "output_type": "stream",
     "text": [
      "[[1.  0.  0.  0.5]\n",
      " [0.  1.  0.  0. ]\n",
      " [0.  0.  1.  0. ]\n",
      " [0.  0.  0.  1. ]]\n"
     ]
    }
   ],
   "source": [
    "T = tr.se3(p=[0.5, 0, 0])\n",
    "print(T)"
   ]
  },
  {
   "cell_type": "markdown",
   "metadata": {},
   "source": [
    "# Checking the \"inv\" function\n",
    "\n",
    "If we calculate a homogenous transform with a rotation of 45 degrees about the x-axis and a general translation ($[0.5, 0.25, 0.3]^T$) we get the following:\n",
    "$$\n",
    "\\left[\\begin{matrix}1 & 0 & 0 & 0.5\\\\0 & 0.707106781186548 & -0.707106781186547 & 0.25\\\\0 & 0.707106781186547 & 0.707106781186548 & 0.3\\\\0 & 0 & 0 & 1\\end{matrix}\\right]\n",
    "$$\n",
    "\n",
    "Then, we can multiply the original transform by its inverse to check out inverse function, we should get the following:\n",
    "$$\n",
    "\\left[\\begin{matrix}1 & 0 & 0 & 0\\\\0 & 1.0 & 0 & 0\\\\0 & 0 & 1.0 & 0\\\\0 & 0 & 0 & 1\\end{matrix}\\right]\n",
    "$$"
   ]
  },
  {
   "cell_type": "code",
   "execution_count": 7,
   "metadata": {},
   "outputs": [
    {
     "name": "stdout",
     "output_type": "stream",
     "text": [
      "[[ 1.     0.     0.     0.5  ]\n",
      " [ 0.     0.707 -0.707  0.25 ]\n",
      " [ 0.     0.707  0.707  0.3  ]\n",
      " [ 0.     0.     0.     1.   ]]\n",
      "\n",
      "\n",
      " inv(T) @ T should give identity matrix:\n",
      "[[1. 0. 0. 0.]\n",
      " [0. 1. 0. 0.]\n",
      " [0. 0. 1. 0.]\n",
      " [0. 0. 0. 1.]]\n"
     ]
    }
   ],
   "source": [
    "T = tr.se3(tr.rotx(np.pi/4), [0.5, 0.25, 0.3])\n",
    "\n",
    "# round to 3 decimal places for better readability\n",
    "T = np.round(T, 3)\n",
    "print(T)\n",
    "\n",
    "# now we can check if we implemented \"inv\" correctly:\n",
    "check = tr.inv(T) @ T\n",
    "check = np.round(check, 3)  # round to 3 decimal places for better readability\n",
    "print(\"\\n\\n inv(T) @ T should give identity matrix:\")\n",
    "print(check)\n"
   ]
  },
  {
   "cell_type": "markdown",
   "metadata": {},
   "source": [
    "# Transform a point in one frame to another frame\n"
   ]
  },
  {
   "cell_type": "markdown",
   "metadata": {},
   "source": [
    "## DH parameters combined for a single joint:\n",
    "\n",
    "Remember that if we combine a rotation in z, translation in z, then translation in x, and rotation in x, we should get the same result as the book for following the DH convention to move from one frame (or joint) to another as follows: \n",
    "\n",
    "$$\n",
    "\\left[\\begin{matrix}\\cos{\\left(\\theta \\right)} & - \\sin{\\left(\\theta \\right)} \\cos{\\left(\\alpha \\right)} & \\sin{\\left(\\alpha \\right)} \\sin{\\left(\\theta \\right)} & a \\cos{\\left(\\theta \\right)}\\\\\\sin{\\left(\\theta \\right)} & \\cos{\\left(\\alpha \\right)} \\cos{\\left(\\theta \\right)} & - \\sin{\\left(\\alpha \\right)} \\cos{\\left(\\theta \\right)} & a \\sin{\\left(\\theta \\right)}\\\\0 & \\sin{\\left(\\alpha \\right)} & \\cos{\\left(\\alpha \\right)} & d\\\\0 & 0 & 0 & 1\\end{matrix}\\right]\n",
    "$$\n",
    "\n",
    "In future homework, we'll implement representations of robot arms that include this transformation. But for the test values of DH parameters below, we can perform this sequence of operations manually.  \n",
    "\n",
    "Assuming the following DH parameters for two joints:\n",
    "\n",
    "$\\theta_1 = \\frac{\\pi}{8}$, $d_1 = 0$, $a_1 = 0.3$, $\\alpha_1 = \\frac{\\pi}{2}$\n",
    "\n",
    "$\\theta_2 = \\frac{\\pi}{4}$, $d_2 = 0$, $a_2 = 0.3$, $\\alpha_2 = 0$\n",
    "\n",
    "\n",
    "The resulting homogeneous transform describing the tip (or frame 2) relate to frame 0 would be:\n",
    "\n",
    "$$\n",
    "\\left[\\begin{matrix}0.653281482438188 & -0.653281482438188 & 0.38268343236509 & 0.473148304484842\\\\0.270598050073099 & -0.270598050073099 & -0.923879532511287 & 0.195984444731456\\\\0.707106781186548 & 0.707106781186548 & 0 & 0.212132034355964\\\\0 & 0 & 0 & 1.0\\end{matrix}\\right]\n",
    "$$"
   ]
  },
  {
   "cell_type": "code",
   "execution_count": null,
   "metadata": {},
   "outputs": [
    {
     "name": "stdout",
     "output_type": "stream",
     "text": [
      "[[ 0.707 -0.5    0.5    0.146]\n",
      " [ 0.707  0.5   -0.5    0.354]\n",
      " [ 0.     0.707  0.707  0.   ]\n",
      " [ 0.     0.     0.     1.   ]]\n"
     ]
    }
   ],
   "source": [
    "# start by substituting the actual values for R and p and making a new SE3 object\n",
    "# that describes the transformation from frame 0 to frame 1\n",
    "\n",
    "# TODO - fill this out\n",
    "# find the transformation from frame 0 to 1\n",
    "T1_in_0 = \n",
    "\n",
    "# do the same thing for frame 1 to frame 2\n",
    "T2_in_1 =\n",
    "\n",
    "# now we can combine the two to get a transformation that describes frame 2\n",
    "# relative to frame 0\n",
    "T2_in_0 = T1_in_0 @ T2_in_1\n",
    "\n",
    "\n",
    "# printing the result\n",
    "print(T2_in_0)\n",
    "\n",
    "# use the \"add_frame\" function to plot both frames (for joint 1 and joint 2) relative\n",
    "# to a base or ground frame.\n",
    "\n",
    "# TODO - put your visualization code here."
   ]
  }
 ],
 "metadata": {
  "kernelspec": {
   "display_name": ".venv",
   "language": "python",
   "name": "python3"
  },
  "language_info": {
   "codemirror_mode": {
    "name": "ipython",
    "version": 3
   },
   "file_extension": ".py",
   "mimetype": "text/x-python",
   "name": "python",
   "nbconvert_exporter": "python",
   "pygments_lexer": "ipython3",
   "version": "3.12.5"
  },
  "orig_nbformat": 4
 },
 "nbformat": 4,
 "nbformat_minor": 2
}
