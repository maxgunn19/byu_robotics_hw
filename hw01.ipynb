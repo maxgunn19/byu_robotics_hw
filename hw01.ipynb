{
 "cells": [
  {
   "cell_type": "markdown",
   "metadata": {},
   "source": [
    "# HW 1: Introduction and Setup\n",
    "* Strongly consider completing the tutorial here (unless you already have significant experience with VS Code and Python) - https://code.visualstudio.com/docs/python/python-tutorial\n",
    "* Make sure to have set up your Python environment and installation of Python libraries correctly (see \"requirements.txt\" file in this folder, and this link for more about environments in VS Code - https://code.visualstudio.com/docs/python/environments#_creating-environments). \n",
    "* Run this notebook and check the output\n",
    "* If things are set up correctly, you should see two coordinate frames appear in a new window.\n",
    "* Play with these values a little to start to get some intuition for what these matrices mean."
   ]
  },
  {
   "cell_type": "code",
   "execution_count": 12,
   "metadata": {},
   "outputs": [],
   "source": [
    "# this cell will fail if you haven't correctly installed the libraries in the \"requiremnts.txt\" file\n",
    "import numpy as np\n",
    "import time\n",
    "from visualization import VizScene\n",
    "\n",
    "Tw_to_frame1 = np.eye(4)\n",
    "\n",
    "viz = VizScene()\n",
    "viz.add_frame(np.eye(4), label='world', axes_label='w')\n",
    "viz.add_frame(Tw_to_frame1, label='frame1', axes_label='1')\n",
    "\n",
    "time_to_run = 10\n",
    "refresh_rate = 60\n",
    "t = 0\n",
    "start = time.time()\n",
    "while t < time_to_run:\n",
    "    t = time.time() - start\n",
    "\n",
    "    # you can play with omega and p to see how they affect the frame\n",
    "    omega = np.pi/2\n",
    "    R = np.array([[np.cos(omega*t), -np.sin(omega*t), 1],\n",
    "                  [np.sin(omega*t), np.cos(omega*t), 0],\n",
    "                  [0, 0, 1]])\n",
    "    p = np.array([1, 0, 0])\n",
    "\n",
    "    Tw_to_frame1[:3,:3] = R\n",
    "    Tw_to_frame1[:3,-1] = p\n",
    "    viz.update(As=[np.eye(4), Tw_to_frame1])\n",
    "\n",
    "viz.close_viz() # could use viz.hold() to keep it open until manually closed"
   ]
  }
 ],
 "metadata": {
  "kernelspec": {
   "display_name": ".venv",
   "language": "python",
   "name": "python3"
  },
  "language_info": {
   "codemirror_mode": {
    "name": "ipython",
    "version": 3
   },
   "file_extension": ".py",
   "mimetype": "text/x-python",
   "name": "python",
   "nbconvert_exporter": "python",
   "pygments_lexer": "ipython3",
   "version": "3.12.5"
  },
  "orig_nbformat": 4
 },
 "nbformat": 4,
 "nbformat_minor": 2
}
