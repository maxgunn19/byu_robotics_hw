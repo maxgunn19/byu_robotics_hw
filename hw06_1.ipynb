{
 "cells": [
  {
   "cell_type": "markdown",
   "id": "b7333254",
   "metadata": {},
   "source": [
    "a) Find the required torques to oppose (meaning the arm remains in equilibrium) each of\n",
    " the following forces at the following joint configurations. Make note of anything that\n",
    " you think is interesting or increases your understanding."
   ]
  },
  {
   "cell_type": "code",
   "execution_count": 1,
   "id": "55163a8b",
   "metadata": {},
   "outputs": [],
   "source": [
    "import numpy as np\n",
    "from kinematics import SerialArm\n",
    "\n",
    "# Set print options for cleaner output\n",
    "np.set_printoptions(precision=4, suppress=True)\n",
    "\n",
    "# Define the DH parameters [theta, d, a, alpha] for a 2-link planar arm\n",
    "# Each link length is 1.0\n",
    "dh_params = [[0, 0, 1.0, 0],  # Link 1\n",
    "             [0, 0, 1.0, 0]]  # Link 2\n",
    "\n",
    "# Both joints are revolute ('r')\n",
    "joint_types = ['r', 'r']\n",
    "\n",
    "# Create the robot arm object\n",
    "arm = SerialArm(dh_params, joint_types)"
   ]
  },
  {
   "cell_type": "code",
   "execution_count": 2,
   "id": "90e5c7b9",
   "metadata": {},
   "outputs": [
    {
     "name": "stdout",
     "output_type": "stream",
     "text": [
      "--- Case i ---\n",
      "Required Torques tau: [0.7071 0.7071]\n"
     ]
    }
   ],
   "source": [
    "# === Case i ===\n",
    "q_i = np.array([0, np.pi/4])\n",
    "f_ext_i = np.array([-1, 0, 0])\n",
    "\n",
    "J_i = arm.jacob(q_i)\n",
    "J_v_i = J_i[:3, :]  # Linear Jacobian\n",
    "tau_i = J_v_i.T @ f_ext_i\n",
    "\n",
    "print(f\"--- Case i ---\")\n",
    "print(f\"Required Torques tau: {tau_i}\")"
   ]
  },
  {
   "cell_type": "code",
   "execution_count": 3,
   "id": "e477c9d0",
   "metadata": {},
   "outputs": [
    {
     "name": "stdout",
     "output_type": "stream",
     "text": [
      "--- Case ii ---\n",
      "Required Torques tau: [1. 1.]\n"
     ]
    }
   ],
   "source": [
    "# --- Case ii ---\n",
    "q_ii = np.array([0, np.pi/2])\n",
    "f_ext_ii = np.array([-1, 0, 0])\n",
    "\n",
    "J_ii = arm.jacob(q_ii)\n",
    "J_v_ii = J_ii[:3, :]\n",
    "tau_ii = J_v_ii.T @ f_ext_ii\n",
    "\n",
    "print(f\"--- Case ii ---\")\n",
    "print(f\"Required Torques tau: {tau_ii}\")"
   ]
  },
  {
   "cell_type": "code",
   "execution_count": 4,
   "id": "fe92d856",
   "metadata": {},
   "outputs": [
    {
     "name": "stdout",
     "output_type": "stream",
     "text": [
      "--- Case iii ---\n",
      "Required Torques tau: [1. 1.]\n"
     ]
    }
   ],
   "source": [
    "# --- Case iii ---\n",
    "q_iii = np.array([np.pi/4, np.pi/4])\n",
    "f_ext_iii = np.array([-1, -1, 0])\n",
    "\n",
    "J_iii = arm.jacob(q_iii)\n",
    "J_v_iii = J_iii[:3, :]\n",
    "tau_iii = J_v_iii.T @ f_ext_iii\n",
    "\n",
    "print(f\"--- Case iii ---\")\n",
    "print(f\"Required Torques tau: {tau_iii}\")"
   ]
  },
  {
   "cell_type": "code",
   "execution_count": 5,
   "id": "6d583e27",
   "metadata": {},
   "outputs": [
    {
     "name": "stdout",
     "output_type": "stream",
     "text": [
      "--- Case iv ---\n",
      "Required Torques tau: [0. 0.]\n"
     ]
    }
   ],
   "source": [
    "# --- Case iv ---\n",
    "q_iv = np.array([0, 0])\n",
    "f_ext_iv = np.array([0, 0, 1])\n",
    "\n",
    "J_iv = arm.jacob(q_iv)\n",
    "J_v_iv = J_iv[:3, :]\n",
    "tau_iv = J_v_iv.T @ f_ext_iv\n",
    "\n",
    "print(f\"--- Case iv ---\")\n",
    "print(f\"Required Torques tau: {tau_iv}\")"
   ]
  },
  {
   "cell_type": "code",
   "execution_count": 6,
   "id": "6213c2d3",
   "metadata": {},
   "outputs": [
    {
     "name": "stdout",
     "output_type": "stream",
     "text": [
      "--- Case v ---\n",
      "Required Torques tau: [0. 0.]\n"
     ]
    }
   ],
   "source": [
    "# --- Case v ---\n",
    "q_v = np.array([0, 0])\n",
    "f_ext_v = np.array([1, 0, 0])\n",
    "\n",
    "J_v = arm.jacob(q_v)\n",
    "J_v_v = J_v[:3, :]\n",
    "tau_v = J_v_v.T @ f_ext_v\n",
    "\n",
    "print(f\"--- Case v ---\")\n",
    "print(f\"Required Torques tau: {tau_v}\")"
   ]
  }
 ],
 "metadata": {
  "kernelspec": {
   "display_name": ".venv",
   "language": "python",
   "name": "python3"
  },
  "language_info": {
   "codemirror_mode": {
    "name": "ipython",
    "version": 3
   },
   "file_extension": ".py",
   "mimetype": "text/x-python",
   "name": "python",
   "nbconvert_exporter": "python",
   "pygments_lexer": "ipython3",
   "version": "3.12.5"
  }
 },
 "nbformat": 4,
 "nbformat_minor": 5
}
