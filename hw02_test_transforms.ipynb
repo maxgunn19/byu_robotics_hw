{
    "cells": [
        {
            "cell_type": "markdown",
            "metadata": {},
            "source": [
                "# HW 2: Introduction and Setup\n",
                "* Open the file \"transforms.py\"\n",
                "* Complete the functions marked with \"TODO\"\n",
                "* Run this notebook and check the output\n",
                "* If your code is correct, the output should exactly match the rotation matrices shown below. "
            ]
        },
        {
            "cell_type": "code",
            "execution_count": 2,
            "metadata": {},
            "outputs": [],
            "source": [
                "# this cell will fail if you haven't correctly copied transforms.py \n",
                "# (and subsequent cells will fail if you haven't completed transforms.py)\n",
                "import transforms as tr\n",
                "import numpy as np\n"
            ]
        },
        {
            "cell_type": "markdown",
            "metadata": {},
            "source": [
                "## 2D rotation by 20 degrees\n",
                "\n",
                "A 2D rotation by 20 degrees should give the following:\n",
                "$$\n",
                "\\left[\\begin{array}{cc}\n",
                "0.9397 & -0.342\\\\\n",
                "0.342 & 0.9397\n",
                "\\end{array}\\right]\n",
                "$$"
            ]
        },
        {
            "cell_type": "code",
            "execution_count": 14,
            "metadata": {},
            "outputs": [
                {
                    "name": "stdout",
                    "output_type": "stream",
                    "text": [
                        "Define 2D Rotation with Angle = 20 degrees\n",
                        "[[ 0.9397 -0.342 ]\n",
                        " [ 0.342   0.9397]]\n"
                    ]
                }
            ],
            "source": [
                "print(\"Define 2D Rotation with Angle = 20 degrees\")\n",
                "R = tr.rot2(20.0/180.0*np.pi)\n",
                "R_round = np.round(R, 4)\n",
                "print(R_round)"
            ]
        },
        {
            "cell_type": "markdown",
            "metadata": {},
            "source": [
                "## 2D rotation by 1.1 radians\n",
                "A 2D rotation by 1.1 radians should give the following:\n",
                "$$\n",
                "\\left[\\begin{array}{cc}\n",
                "0.4536 & -0.8912\\\\\n",
                "0.8912 & 0.4536\n",
                "\\end{array}\\right]\n",
                "$$"
            ]
        },
        {
            "cell_type": "code",
            "execution_count": 15,
            "metadata": {},
            "outputs": [
                {
                    "name": "stdout",
                    "output_type": "stream",
                    "text": [
                        "\n",
                        "Specify that the angle is 1.1 radians\n",
                        "[[ 0.4536 -0.8912]\n",
                        " [ 0.8912  0.4536]]\n"
                    ]
                }
            ],
            "source": [
                "print(\"\\nSpecify that the angle is 1.1 radians\")\n",
                "R = tr.rot2(1.1)\n",
                "R_round = np.round(R, 4)\n",
                "print(R_round)\n",
                "#print(R)"
            ]
        },
        {
            "cell_type": "markdown",
            "metadata": {},
            "source": [
                "## 3D rotations $R_x(30)$, $R_y(25)$, and $R_z(15)$   (all in degrees) \n",
                "\n",
                "Using the \"rotx\" function to make a 3D rotation about the x axis of 30 degrees, we get:\n",
                "$$\n",
                "\\left[\\begin{array}{ccc}\n",
                "1.0 & 0 & 0 \\\\\n",
                "0 & 0.866 & -0.5 \\\\\n",
                "0 & 0.5   & 0.866 \n",
                "\\end{array}\\right]\n",
                "$$\n",
                "\n",
                "Using the \"roty\" function to make a 3D rotation about the y axis of 25 degrees, we get:\n",
                "$$\n",
                "\\left[\\begin{array}{ccc}\n",
                "0.9063 & 0 & 0.4226 \\\\\n",
                "0 & 1.0 & 0\\\\\n",
                "-0.4226 & 0  & 0.9063 \n",
                "\\end{array}\\right]\n",
                "$$\n",
                "\n",
                "Using the \"rotz\" function to make a 3D rotation about the z axis of 15 degrees, we get:\n",
                "$$\n",
                "\\left[\\begin{array}{ccc}\n",
                "0.9659 & -0.2588 & 0 \\\\\n",
                "0.2588 & 0.9659 & 0 \\\\\n",
                "0 & 0 & 1.0\n",
                "\\end{array}\\right]\n",
                "$$"
            ]
        },
        {
            "cell_type": "code",
            "execution_count": 9,
            "metadata": {},
            "outputs": [
                {
                    "name": "stdout",
                    "output_type": "stream",
                    "text": [
                        "\n",
                        "Use rotx to make a 3D rotation about the x axis of 30 degrees\n",
                        "[[ 1.     0.     0.   ]\n",
                        " [ 0.     0.866 -0.5  ]\n",
                        " [ 0.     0.5    0.866]]\n",
                        "\n",
                        "Use roty to make a 3D rotation about the y axis of 25 degrees\n",
                        "[[ 0.9063  0.      0.4226]\n",
                        " [ 0.      1.      0.    ]\n",
                        " [-0.4226  0.      0.9063]]\n",
                        "\n",
                        "Use rotz to make a 3D rotation about the z axis of 15 degrees\n",
                        "[[ 0.9659 -0.2588  0.    ]\n",
                        " [ 0.2588  0.9659  0.    ]\n",
                        " [ 0.      0.      1.    ]]\n"
                    ]
                }
            ],
            "source": [
                "print(\"\\nUse rotx to make a 3D rotation about the x axis of 30 degrees\")\n",
                "R = tr.rotx(30.0/180.0*np.pi)\n",
                "#print(R)\n",
                "R_round = np.round(R, 3)\n",
                "print(R_round)\n",
                "\n",
                "print(\"\\nUse roty to make a 3D rotation about the y axis of 25 degrees\")\n",
                "R = tr.roty(25.0/180.0*np.pi)\n",
                "#print(R)\n",
                "R_round = np.round(R, 4)\n",
                "print(R_round)\n",
                "\n",
                "\n",
                "print(\"\\nUse rotz to make a 3D rotation about the z axis of 15 degrees\")\n",
                "R = tr.rotz(15.0/180.0*np.pi)\n",
                "#print(R)\n",
                "R_round = np.round(R, 4)\n",
                "print(R_round)"
            ]
        },
        {
            "cell_type": "markdown",
            "metadata": {},
            "source": [
                "## Composition of 3D rotations:\n",
                "\n",
                "Composing a 3D rotation about the x, y, and z axes as follows $R_x(10)*R_y(15)*R_z(20)$ (all in degrees), should give: \n",
                "$$\n",
                "\\left[\\begin{array}{ccc}\n",
                "0.9077 & -0.3304 & 0.2588 \\\\\n",
                "0.3791 & 0.91 & -0.1677 \\\\\n",
                "-0.1801 & 0.2504 & 0.9512 \n",
                "\\end{array}\\right]\n",
                "$$\n",
                "\n",
                "Finding the inverse of a rotation matrix, and multiplying it by the original rotation matrix, should result in the identity matrix:\n",
                "$$\n",
                "\\left[\\begin{array}{ccc}\n",
                "1.0 & 0 & 0 \\\\\n",
                "0 & 1.0 & 0 \\\\\n",
                "0 & 0 & 1.0\n",
                "\\end{array}\\right]\n",
                "$$"
            ]
        },
        {
            "cell_type": "code",
            "execution_count": 12,
            "metadata": {},
            "outputs": [
                {
                    "name": "stdout",
                    "output_type": "stream",
                    "text": [
                        "\n",
                        "Compose multiple rotations about the x, y, and z axes\n",
                        "[[ 0.9077 -0.3304  0.2588]\n",
                        " [ 0.3791  0.91   -0.1677]\n",
                        " [-0.1801  0.2504  0.9513]]\n",
                        "\n",
                        "Demonstrate that your implementation of the .inv() function returns the inverse of a rotation\n",
                        "[[1. 0. 0.]\n",
                        " [0. 1. 0.]\n",
                        " [0. 0. 1.]]\n",
                        "\n",
                        "\n"
                    ]
                }
            ],
            "source": [
                "print(\"\\nCompose multiple rotations about the x, y, and z axes\")\n",
                "R = tr.rotx(10/180.0*np.pi) @ tr.roty(15/180.0*np.pi) @ tr.rotz(20/180.0*np.pi)\n",
                "R_round = np.round(R, 4)\n",
                "print(R_round)\n",
                "\n",
                "print(\"\\nDemonstrate that your implementation of the .inv() function returns the inverse of a rotation\")\n",
                "R = tr.rotx(20/180.0*np.pi)\n",
                "R = R @ tr.rot_inv(R)\n",
                "R_round = np.round(R, 1)\n",
                "print(R_round)\n",
                "print(\"\\n\")"
            ]
        },
        {
            "cell_type": "markdown",
            "metadata": {},
            "source": [
                "## Checking commutativity:\n",
                "\n",
                "The previoius rotation described as $R_x(10)*R_y(15)*R_z(20)$ (all in degrees), gave the following: \n",
                "$$\n",
                "\\left[\\begin{array}{ccc}\n",
                "0.9077 & -0.3304 & 0.2588 \\\\\n",
                "0.3791 & 0.91 & -0.1677 \\\\\n",
                "-0.1801 & 0.2504 & 0.9512 \n",
                "\\end{array}\\right]\n",
                "$$\n",
                "\n",
                "Show that performing the operations in the opposite order does NOT give the same result. "
            ]
        },
        {
            "cell_type": "code",
            "execution_count": 13,
            "metadata": {},
            "outputs": [
                {
                    "name": "stdout",
                    "output_type": "stream",
                    "text": [
                        "\n",
                        "Rotation about current z, then y, then x axes:\n",
                        "[[ 0.9077 -0.2946  0.2989]\n",
                        " [ 0.3304  0.9408 -0.076 ]\n",
                        " [-0.2588  0.1677  0.9513]]\n"
                    ]
                }
            ],
            "source": [
                "print(\"\\nRotation about current z, then y, then x axes:\")\n",
                "R = tr.rotz(20/180.0*np.pi) @ tr.roty(15/180.0*np.pi) @ tr.rotx(10/180.0*np.pi)\n",
                "R_round = np.round(R, 4)\n",
                "print(R_round)"
            ]
        },
        {
            "cell_type": "markdown",
            "metadata": {},
            "source": [
                "## Animating a Coordinate Frame\n",
                "\n",
                "We can implement and test the code for problem 9 here:"
            ]
        },
        {
            "cell_type": "code",
            "execution_count": 22,
            "metadata": {},
            "outputs": [],
            "source": [
                "import time\n",
                "from visualization import VizScene \n",
                "\n",
                "viz = VizScene()\n",
                "viz.add_frame(np.eye(4), label='world', axes_label='w')\n",
                "viz.add_frame(np.eye(4), label='frame1', axes_label='f1')\n",
                "\n",
                "time_to_run = 10 # seconds\n",
                "refresh_rate = 60 # Hz\n",
                "t = 0\n",
                "start = time.time()\n",
                "\n",
                "while t < time_to_run:\n",
                "    t = time.time() - start\n",
                "\n",
                "    Tw_to_frame1 = np.eye(4)\n",
                "\n",
                "    # you can play with omega and p to see how they affect the frame\n",
                "    omega = np.pi/2\n",
                "    R = tr.roty(10/180.0*np.pi * t)\n",
                "\n",
                "    p = np.array([1, 0, 0])\n",
                "\n",
                "    Tw_to_frame1[:3,:3] = R\n",
                "    Tw_to_frame1[:3, 3] = p\n",
                "\n",
                "    viz.update(As=[np.eye(4), Tw_to_frame1])\n",
                "\n",
                "viz.hold()\n",
                "\n",
                "# now you can use functions like \"VizScene\" and \"add_frame\" \n",
                "# as demonstrated in HW 01 to animate a frame.  \n"
            ]
        },
        {
            "cell_type": "markdown",
            "metadata": {},
            "source": [
                "**Problem 2**  \n",
                "For the rest of the problems in this homework, you may either continue using the notebook, make your own Python script, or do some problems by hand (whichever you prefer).  \n",
                "\n",
                "I strongly recommend using **SymPy** as it will come in handy for future homework. To better understand the capabilities of symbolic manipulation with the SymPy library, please run the **`sympy_tutorial.ipynb`** file from the class homework repository.  \n",
                "\n",
                "You may find it especially useful to define symbolic variables (such as **θ, φ, ψ**) for some problems. Mixing data types like **`numpy.array`** objects (used in **`transforms.py`**) and **SymPy `Matrix`** objects (demonstrated in **`sympy_tutorial.ipynb`**) does not work well. However, in some cases, using symbolic variables is still useful and worthwhile.  \n",
                "\n",
                "This problem is **graded by completion** if you step through each part of the SymPy introduction."
            ]
        },
        {
            "cell_type": "code",
            "execution_count": 23,
            "metadata": {},
            "outputs": [
                {
                    "name": "stdout",
                    "output_type": "stream",
                    "text": [
                        "Done\n"
                    ]
                }
            ],
            "source": [
                "print(\"Done\")"
            ]
        },
        {
            "cell_type": "markdown",
            "metadata": {},
            "source": [
                "**Problem 3**  \n",
                "Consider the following sequences of rotations and write the matrix product that will give the resulting rotation matrix (don't perform the operation, just write the correct order -e.g. $R_x(\\alpha)R_y(\\beta)$ etc.):  \n",
                "  \n",
                "(a) rotate by $\\phi$ in the **x-axis**, $\\theta$ in the **z-axis**, then $\\psi$ in the **y-axis** all in the current frame.  \n",
                "(b) rotate by $\\phi$ in the **x-axis**, $\\theta$ in the **z-axis**, then $\\psi$ in the **y-axis** all in the fixed world frame.\n"
            ]
        },
        {
            "cell_type": "code",
            "execution_count": null,
            "metadata": {},
            "outputs": [],
            "source": []
        },
        {
            "cell_type": "markdown",
            "metadata": {},
            "source": [
                "**Problem 4**  \n",
                "A camera has its **z-axis** parallel to the vector **[0, 1, 0]** in the world frame, and its **y-axis** parallel to the vector **[0, 0, −1]**.  \n",
                "\n",
                "What is the **attitude of the camera** with respect to the world frame expressed as a **rotation matrix**?\n"
            ]
        },
        {
            "cell_type": "code",
            "execution_count": null,
            "metadata": {},
            "outputs": [],
            "source": []
        },
        {
            "cell_type": "markdown",
            "metadata": {},
            "source": [
                "**Problem 5**  \n",
                "If coordinate frame **o₁** is obtained by rotating coordinate frame **o₀** by **π/2** about the **x-axis**, followed by a rotation of **π/2** about the **y-axis**, find the **rotation matrix R** that represents the composite transformation.  \n",
                "\n",
                "Sketch the initial and final frames (or use the **`addframe`** function again).  \n",
                "This is for **rotations about a fixed axis**.\n"
            ]
        },
        {
            "cell_type": "code",
            "execution_count": null,
            "metadata": {},
            "outputs": [],
            "source": []
        },
        {
            "cell_type": "markdown",
            "metadata": {},
            "source": [
                "**Problem 6**  \n",
                "Suppose three coordinate frames (**o₁, o₂, o₃**) are given, and that:\n",
                "\n",
                "\\[\n",
                "R^1_2 =\n",
                "\\begin{bmatrix}\n",
                "1 & 0 & 0 \\\\\n",
                "0 & \\tfrac{1}{2} & -\\tfrac{\\sqrt{3}}{2} \\\\\n",
                "0 & \\tfrac{\\sqrt{3}}{2} & \\tfrac{1}{2}\n",
                "\\end{bmatrix}, \\quad\n",
                "R^1_3 =\n",
                "\\begin{bmatrix}\n",
                "0 & 0 & -1 \\\\\n",
                "0 & 1 & 0 \\\\\n",
                "1 & 0 & 0\n",
                "\\end{bmatrix}\n",
                "\\]\n",
                "\n",
                "Find the matrix **R²₃**.\n"
            ]
        },
        {
            "cell_type": "code",
            "execution_count": null,
            "metadata": {},
            "outputs": [],
            "source": []
        },
        {
            "cell_type": "markdown",
            "metadata": {},
            "source": [
                "**Problem 7**  \n",
                "Compute the rotation matrix given by the following product (you may use symbolic variables to do this, and remember that **φ** and **θ** are variables, but **π** is a numerical value that should be evaluated):\n",
                "\n",
                "$$R_{x, \\theta} \\, R_{y, \\phi} \\, R_{z, \\pi} \\, R_{y, -\\phi} \\, R_{x, -\\theta}$$\n"
            ]
        },
        {
            "cell_type": "code",
            "execution_count": null,
            "metadata": {},
            "outputs": [],
            "source": []
        },
        {
            "cell_type": "markdown",
            "metadata": {},
            "source": [
                "**Problem 8**  \n",
                "Find the rotation matrix corresponding to the Euler angles **φ = π/2**, **θ = 0**, and **ψ = π/4**, about the **Z, then Y, then Z axes**.  \n",
                "\n",
                "What is the **direction of the new x-axis** relative to the base frame?\n"
            ]
        },
        {
            "cell_type": "code",
            "execution_count": null,
            "metadata": {},
            "outputs": [],
            "source": []
        },
        {
            "cell_type": "markdown",
            "metadata": {},
            "source": [
                "**Problem 9**  \n",
                "Make an **animation of a rotating coordinate frame** and either video it with a phone or screen capture for submission.  \n",
                "\n",
                "You can do this in a new Python file, or use the Jupyter notebook (building on examples from HW01). You can describe this transform using an equation like the following (but you can also pick your own as long as it results in an actual rotation matrix in the top-left 3×3 entries):\n",
                "\n",
                "\\[\n",
                "T^w_1(t) =\n",
                "\\begin{bmatrix}\n",
                "\\cos\\left(\\tfrac{\\pi}{2} t\\right) & -\\sin\\left(\\tfrac{\\pi}{2} t\\right) & 0 & 1 \\\\\n",
                "\\sin\\left(\\tfrac{\\pi}{2} t\\right) & \\cos\\left(\\tfrac{\\pi}{2} t\\right) & 0 & 0 \\\\\n",
                "0 & 0 & 1 & 0 \\\\\n",
                "0 & 0 & 0 & 1\n",
                "\\end{bmatrix}\n",
                "\\]\n",
                "\n",
                "The animation can be done using the **`addframe`** function from HW01, but by passing an additional argument to the **`viz.update()`** function as follows (where the matrix argument just tells our function how to change the frame orientation over time):\n",
                "\n",
                "```python\n",
                "viz.update(As=[np.eye(4), Tw_to_frame1])\n"
            ]
        },
        {
            "cell_type": "code",
            "execution_count": null,
            "metadata": {},
            "outputs": [],
            "source": []
        }
    ],
    "metadata": {
        "kernelspec": {
            "display_name": ".venv",
            "language": "python",
            "name": "python3"
        },
        "language_info": {
            "codemirror_mode": {
                "name": "ipython",
                "version": 3
            },
            "file_extension": ".py",
            "mimetype": "text/x-python",
            "name": "python",
            "nbconvert_exporter": "python",
            "pygments_lexer": "ipython3",
            "version": "3.12.5"
        },
        "orig_nbformat": 4
    },
    "nbformat": 4,
    "nbformat_minor": 2
}
