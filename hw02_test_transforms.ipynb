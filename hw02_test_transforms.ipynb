{
    "cells": [
        {
            "cell_type": "markdown",
            "metadata": {},
            "source": [
                "# HW 2: Introduction and Setup\n",
                "* Open the file \"transforms.py\"\n",
                "* Complete the functions marked with \"TODO\"\n",
                "* Run this notebook and check the output\n",
                "* If your code is correct, the output should exactly match the rotation matrices shown below. "
            ]
        },
        {
            "cell_type": "code",
            "execution_count": 25,
            "metadata": {},
            "outputs": [],
            "source": [
                "# this cell will fail if you haven't correctly copied transforms.py \n",
                "# (and subsequent cells will fail if you haven't completed transforms.py)\n",
                "import transforms as tr\n",
                "import numpy as np\n"
            ]
        },
        {
            "cell_type": "markdown",
            "metadata": {},
            "source": [
                "## 2D rotation by 20 degrees\n",
                "\n",
                "A 2D rotation by 20 degrees should give the following:\n",
                "$$\n",
                "\\left[\\begin{array}{cc}\n",
                "0.9397 & -0.342\\\\\n",
                "0.342 & 0.9397\n",
                "\\end{array}\\right]\n",
                "$$"
            ]
        },
        {
            "cell_type": "code",
            "execution_count": 26,
            "metadata": {},
            "outputs": [
                {
                    "name": "stdout",
                    "output_type": "stream",
                    "text": [
                        "Define 2D Rotation with Angle = 20 degrees\n",
                        "[[ 0.9397 -0.342 ]\n",
                        " [ 0.342   0.9397]]\n"
                    ]
                }
            ],
            "source": [
                "print(\"Define 2D Rotation with Angle = 20 degrees\")\n",
                "R = tr.rot2(20.0/180.0*np.pi)\n",
                "R_round = np.round(R, 4)\n",
                "print(R_round)"
            ]
        },
        {
            "cell_type": "markdown",
            "metadata": {},
            "source": [
                "## 2D rotation by 1.1 radians\n",
                "A 2D rotation by 1.1 radians should give the following:\n",
                "$$\n",
                "\\left[\\begin{array}{cc}\n",
                "0.4536 & -0.8912\\\\\n",
                "0.8912 & 0.4536\n",
                "\\end{array}\\right]\n",
                "$$"
            ]
        },
        {
            "cell_type": "code",
            "execution_count": 27,
            "metadata": {},
            "outputs": [
                {
                    "name": "stdout",
                    "output_type": "stream",
                    "text": [
                        "\n",
                        "Specify that the angle is 1.1 radians\n",
                        "[[ 0.4536 -0.8912]\n",
                        " [ 0.8912  0.4536]]\n"
                    ]
                }
            ],
            "source": [
                "print(\"\\nSpecify that the angle is 1.1 radians\")\n",
                "R = tr.rot2(1.1)\n",
                "R_round = np.round(R, 4)\n",
                "print(R_round)\n",
                "#print(R)"
            ]
        },
        {
            "cell_type": "markdown",
            "metadata": {},
            "source": [
                "## 3D rotations $R_x(30)$, $R_y(25)$, and $R_z(15)$   (all in degrees) \n",
                "\n",
                "Using the \"rotx\" function to make a 3D rotation about the x axis of 30 degrees, we get:\n",
                "$$\n",
                "\\left[\\begin{array}{ccc}\n",
                "1.0 & 0 & 0 \\\\\n",
                "0 & 0.866 & -0.5 \\\\\n",
                "0 & 0.5   & 0.866 \n",
                "\\end{array}\\right]\n",
                "$$\n",
                "\n",
                "Using the \"roty\" function to make a 3D rotation about the y axis of 25 degrees, we get:\n",
                "$$\n",
                "\\left[\\begin{array}{ccc}\n",
                "0.9063 & 0 & 0.4226 \\\\\n",
                "0 & 1.0 & 0\\\\\n",
                "-0.4226 & 0  & 0.9063 \n",
                "\\end{array}\\right]\n",
                "$$\n",
                "\n",
                "Using the \"rotz\" function to make a 3D rotation about the z axis of 15 degrees, we get:\n",
                "$$\n",
                "\\left[\\begin{array}{ccc}\n",
                "0.9659 & -0.2588 & 0 \\\\\n",
                "0.2588 & 0.9659 & 0 \\\\\n",
                "0 & 0 & 1.0\n",
                "\\end{array}\\right]\n",
                "$$"
            ]
        },
        {
            "cell_type": "code",
            "execution_count": 28,
            "metadata": {},
            "outputs": [
                {
                    "name": "stdout",
                    "output_type": "stream",
                    "text": [
                        "\n",
                        "Use rotx to make a 3D rotation about the x axis of 30 degrees\n",
                        "[[ 1.     0.     0.   ]\n",
                        " [ 0.     0.866 -0.5  ]\n",
                        " [ 0.     0.5    0.866]]\n",
                        "\n",
                        "Use roty to make a 3D rotation about the y axis of 25 degrees\n",
                        "[[ 0.9063  0.      0.4226]\n",
                        " [ 0.      1.      0.    ]\n",
                        " [-0.4226  0.      0.9063]]\n",
                        "\n",
                        "Use rotz to make a 3D rotation about the z axis of 15 degrees\n",
                        "[[ 0.9659 -0.2588  0.    ]\n",
                        " [ 0.2588  0.9659  0.    ]\n",
                        " [ 0.      0.      1.    ]]\n"
                    ]
                }
            ],
            "source": [
                "print(\"\\nUse rotx to make a 3D rotation about the x axis of 30 degrees\")\n",
                "R = tr.rotx(30.0/180.0*np.pi)\n",
                "#print(R)\n",
                "R_round = np.round(R, 3)\n",
                "print(R_round)\n",
                "\n",
                "print(\"\\nUse roty to make a 3D rotation about the y axis of 25 degrees\")\n",
                "R = tr.roty(25.0/180.0*np.pi)\n",
                "#print(R)\n",
                "R_round = np.round(R, 4)\n",
                "print(R_round)\n",
                "\n",
                "\n",
                "print(\"\\nUse rotz to make a 3D rotation about the z axis of 15 degrees\")\n",
                "R = tr.rotz(15.0/180.0*np.pi)\n",
                "#print(R)\n",
                "R_round = np.round(R, 4)\n",
                "print(R_round)"
            ]
        },
        {
            "cell_type": "markdown",
            "metadata": {},
            "source": [
                "## Composition of 3D rotations:\n",
                "\n",
                "Composing a 3D rotation about the x, y, and z axes as follows $R_x(10)*R_y(15)*R_z(20)$ (all in degrees), should give: \n",
                "$$\n",
                "\\left[\\begin{array}{ccc}\n",
                "0.9077 & -0.3304 & 0.2588 \\\\\n",
                "0.3791 & 0.91 & -0.1677 \\\\\n",
                "-0.1801 & 0.2504 & 0.9512 \n",
                "\\end{array}\\right]\n",
                "$$\n",
                "\n",
                "Finding the inverse of a rotation matrix, and multiplying it by the original rotation matrix, should result in the identity matrix:\n",
                "$$\n",
                "\\left[\\begin{array}{ccc}\n",
                "1.0 & 0 & 0 \\\\\n",
                "0 & 1.0 & 0 \\\\\n",
                "0 & 0 & 1.0\n",
                "\\end{array}\\right]\n",
                "$$"
            ]
        },
        {
            "cell_type": "code",
            "execution_count": 29,
            "metadata": {},
            "outputs": [
                {
                    "name": "stdout",
                    "output_type": "stream",
                    "text": [
                        "\n",
                        "Compose multiple rotations about the x, y, and z axes\n",
                        "[[ 0.9077 -0.3304  0.2588]\n",
                        " [ 0.3791  0.91   -0.1677]\n",
                        " [-0.1801  0.2504  0.9513]]\n",
                        "\n",
                        "Demonstrate that your implementation of the .inv() function returns the inverse of a rotation\n",
                        "[[1. 0. 0.]\n",
                        " [0. 1. 0.]\n",
                        " [0. 0. 1.]]\n",
                        "\n",
                        "\n"
                    ]
                }
            ],
            "source": [
                "print(\"\\nCompose multiple rotations about the x, y, and z axes\")\n",
                "R = tr.rotx(10/180.0*np.pi) @ tr.roty(15/180.0*np.pi) @ tr.rotz(20/180.0*np.pi)\n",
                "R_round = np.round(R, 4)\n",
                "print(R_round)\n",
                "\n",
                "print(\"\\nDemonstrate that your implementation of the .inv() function returns the inverse of a rotation\")\n",
                "R = tr.rotx(20/180.0*np.pi)\n",
                "R = R @ tr.rot_inv(R)\n",
                "R_round = np.round(R, 1)\n",
                "print(R_round)\n",
                "print(\"\\n\")"
            ]
        },
        {
            "cell_type": "markdown",
            "metadata": {},
            "source": [
                "## Checking commutativity:\n",
                "\n",
                "The previoius rotation described as $R_x(10)*R_y(15)*R_z(20)$ (all in degrees), gave the following: \n",
                "$$\n",
                "\\left[\\begin{array}{ccc}\n",
                "0.9077 & -0.3304 & 0.2588 \\\\\n",
                "0.3791 & 0.91 & -0.1677 \\\\\n",
                "-0.1801 & 0.2504 & 0.9512 \n",
                "\\end{array}\\right]\n",
                "$$\n",
                "\n",
                "Show that performing the operations in the opposite order does NOT give the same result. "
            ]
        },
        {
            "cell_type": "code",
            "execution_count": 30,
            "metadata": {},
            "outputs": [
                {
                    "name": "stdout",
                    "output_type": "stream",
                    "text": [
                        "\n",
                        "Rotation about current z, then y, then x axes:\n",
                        "[[ 0.9077 -0.2946  0.2989]\n",
                        " [ 0.3304  0.9408 -0.076 ]\n",
                        " [-0.2588  0.1677  0.9513]]\n"
                    ]
                }
            ],
            "source": [
                "print(\"\\nRotation about current z, then y, then x axes:\")\n",
                "R = tr.rotz(20/180.0*np.pi) @ tr.roty(15/180.0*np.pi) @ tr.rotx(10/180.0*np.pi)\n",
                "R_round = np.round(R, 4)\n",
                "print(R_round)"
            ]
        },
        {
            "cell_type": "markdown",
            "metadata": {},
            "source": [
                "## Animating a Coordinate Frame\n",
                "\n",
                "We can implement and test the code for problem 9 here:"
            ]
        },
        {
            "cell_type": "code",
            "execution_count": 31,
            "metadata": {},
            "outputs": [
                {
                    "name": "stdout",
                    "output_type": "stream",
                    "text": [
                        "Error while drawing item <pyqtgraph.opengl.items.GLMeshItem.GLMeshItem object at 0x0000022ADAD725F0>.\n"
                    ]
                },
                {
                    "name": "stderr",
                    "output_type": "stream",
                    "text": [
                        "c:\\Users\\maxgunn\\Desktop\\2025 Fall Classes\\Robotics\\CodeBase\\.venv\\Lib\\site-packages\\pyqtgraph\\opengl\\GLViewWidget.py:231: RuntimeWarning: \n",
                        "Traceback (most recent call last):\n",
                        "  File \"<frozen runpy>\", line 198, in _run_module_as_main\n",
                        "  File \"<frozen runpy>\", line 88, in _run_code\n",
                        "  File \"c:\\Users\\maxgunn\\Desktop\\2025 Fall Classes\\Robotics\\CodeBase\\.venv\\Lib\\site-packages\\ipykernel_launcher.py\", line 18, in <module>\n",
                        "    app.launch_new_instance()\n",
                        "  File \"c:\\Users\\maxgunn\\Desktop\\2025 Fall Classes\\Robotics\\CodeBase\\.venv\\Lib\\site-packages\\traitlets\\config\\application.py\", line 1075, in launch_instance\n",
                        "    app.start()\n",
                        "  File \"c:\\Users\\maxgunn\\Desktop\\2025 Fall Classes\\Robotics\\CodeBase\\.venv\\Lib\\site-packages\\ipykernel\\kernelapp.py\", line 739, in start\n",
                        "    self.io_loop.start()\n",
                        "  File \"c:\\Users\\maxgunn\\Desktop\\2025 Fall Classes\\Robotics\\CodeBase\\.venv\\Lib\\site-packages\\tornado\\platform\\asyncio.py\", line 211, in start\n",
                        "    self.asyncio_loop.run_forever()\n",
                        "  File \"C:\\Program Files\\WindowsApps\\PythonSoftwareFoundation.Python.3.11_3.11.2544.0_x64__qbz5n2kfra8p0\\Lib\\asyncio\\base_events.py\", line 608, in run_forever\n",
                        "    self._run_once()\n",
                        "  File \"C:\\Program Files\\WindowsApps\\PythonSoftwareFoundation.Python.3.11_3.11.2544.0_x64__qbz5n2kfra8p0\\Lib\\asyncio\\base_events.py\", line 1936, in _run_once\n",
                        "    handle._run()\n",
                        "  File \"C:\\Program Files\\WindowsApps\\PythonSoftwareFoundation.Python.3.11_3.11.2544.0_x64__qbz5n2kfra8p0\\Lib\\asyncio\\events.py\", line 84, in _run\n",
                        "    self._context.run(self._callback, *self._args)\n",
                        "  File \"c:\\Users\\maxgunn\\Desktop\\2025 Fall Classes\\Robotics\\CodeBase\\.venv\\Lib\\site-packages\\ipykernel\\kernelbase.py\", line 519, in dispatch_queue\n",
                        "    await self.process_one()\n",
                        "  File \"c:\\Users\\maxgunn\\Desktop\\2025 Fall Classes\\Robotics\\CodeBase\\.venv\\Lib\\site-packages\\ipykernel\\kernelbase.py\", line 508, in process_one\n",
                        "    await dispatch(*args)\n",
                        "  File \"c:\\Users\\maxgunn\\Desktop\\2025 Fall Classes\\Robotics\\CodeBase\\.venv\\Lib\\site-packages\\ipykernel\\kernelbase.py\", line 400, in dispatch_shell\n",
                        "    await result\n",
                        "  File \"c:\\Users\\maxgunn\\Desktop\\2025 Fall Classes\\Robotics\\CodeBase\\.venv\\Lib\\site-packages\\ipykernel\\ipkernel.py\", line 368, in execute_request\n",
                        "    await super().execute_request(stream, ident, parent)\n",
                        "  File \"c:\\Users\\maxgunn\\Desktop\\2025 Fall Classes\\Robotics\\CodeBase\\.venv\\Lib\\site-packages\\ipykernel\\kernelbase.py\", line 767, in execute_request\n",
                        "    reply_content = await reply_content\n",
                        "  File \"c:\\Users\\maxgunn\\Desktop\\2025 Fall Classes\\Robotics\\CodeBase\\.venv\\Lib\\site-packages\\ipykernel\\ipkernel.py\", line 455, in do_execute\n",
                        "    res = shell.run_cell(\n",
                        "  File \"c:\\Users\\maxgunn\\Desktop\\2025 Fall Classes\\Robotics\\CodeBase\\.venv\\Lib\\site-packages\\ipykernel\\zmqshell.py\", line 577, in run_cell\n",
                        "    return super().run_cell(*args, **kwargs)\n",
                        "  File \"c:\\Users\\maxgunn\\Desktop\\2025 Fall Classes\\Robotics\\CodeBase\\.venv\\Lib\\site-packages\\IPython\\core\\interactiveshell.py\", line 3116, in run_cell\n",
                        "    result = self._run_cell(\n",
                        "  File \"c:\\Users\\maxgunn\\Desktop\\2025 Fall Classes\\Robotics\\CodeBase\\.venv\\Lib\\site-packages\\IPython\\core\\interactiveshell.py\", line 3171, in _run_cell\n",
                        "    result = runner(coro)\n",
                        "  File \"c:\\Users\\maxgunn\\Desktop\\2025 Fall Classes\\Robotics\\CodeBase\\.venv\\Lib\\site-packages\\IPython\\core\\async_helpers.py\", line 128, in _pseudo_sync_runner\n",
                        "    coro.send(None)\n",
                        "  File \"c:\\Users\\maxgunn\\Desktop\\2025 Fall Classes\\Robotics\\CodeBase\\.venv\\Lib\\site-packages\\IPython\\core\\interactiveshell.py\", line 3394, in run_cell_async\n",
                        "    has_raised = await self.run_ast_nodes(code_ast.body, cell_name,\n",
                        "  File \"c:\\Users\\maxgunn\\Desktop\\2025 Fall Classes\\Robotics\\CodeBase\\.venv\\Lib\\site-packages\\IPython\\core\\interactiveshell.py\", line 3639, in run_ast_nodes\n",
                        "    if await self.run_code(code, result, async_=asy):\n",
                        "  File \"c:\\Users\\maxgunn\\Desktop\\2025 Fall Classes\\Robotics\\CodeBase\\.venv\\Lib\\site-packages\\IPython\\core\\interactiveshell.py\", line 3699, in run_code\n",
                        "    exec(code_obj, self.user_global_ns, self.user_ns)\n",
                        "  File \"C:\\Users\\maxgunn\\AppData\\Local\\Temp\\ipykernel_75768\\410464619.py\", line 27, in <module>\n",
                        "    viz.update(As=[np.eye(4), Tw_to_frame1])\n",
                        "  File \"c:\\Users\\maxgunn\\Desktop\\2025 Fall Classes\\Robotics\\CodeBase\\byu_robotics_hw\\visualization.py\", line 498, in update\n",
                        "    self.app.processEvents()\n",
                        "  File \"c:\\Users\\maxgunn\\Desktop\\2025 Fall Classes\\Robotics\\CodeBase\\.venv\\Lib\\site-packages\\pyqtgraph\\opengl\\GLViewWidget.py\", line 210, in paintGL\n",
                        "    self.drawItemTree(useItemNames=useItemNames)\n",
                        "  File \"c:\\Users\\maxgunn\\Desktop\\2025 Fall Classes\\Robotics\\CodeBase\\.venv\\Lib\\site-packages\\pyqtgraph\\opengl\\GLViewWidget.py\", line 242, in drawItemTree\n",
                        "    self.drawItemTree(i, useItemNames=useItemNames)\n",
                        "  File \"c:\\Users\\maxgunn\\Desktop\\2025 Fall Classes\\Robotics\\CodeBase\\.venv\\Lib\\site-packages\\pyqtgraph\\opengl\\GLViewWidget.py\", line 231, in drawItemTree\n",
                        "    debug.printExc()\n",
                        "  --- exception caught here ---\n",
                        "  File \"c:\\Users\\maxgunn\\Desktop\\2025 Fall Classes\\Robotics\\CodeBase\\.venv\\Lib\\site-packages\\pyqtgraph\\opengl\\GLViewWidget.py\", line 228, in drawItemTree\n",
                        "    i.paint()\n",
                        "  File \"c:\\Users\\maxgunn\\Desktop\\2025 Fall Classes\\Robotics\\CodeBase\\.venv\\Lib\\site-packages\\pyqtgraph\\opengl\\items\\GLMeshItem.py\", line 175, in paint\n",
                        "    glEnableClientState(GL_VERTEX_ARRAY)\n",
                        "  File \"c:\\Users\\maxgunn\\Desktop\\2025 Fall Classes\\Robotics\\CodeBase\\.venv\\Lib\\site-packages\\OpenGL\\error.py\", line 230, in glCheckError\n",
                        "    raise self._errorClass(\n",
                        "OpenGL.error.GLError: GLError(\n",
                        "\terr = 1282,\n",
                        "\tdescription = b'invalid operation',\n",
                        "\tbaseOperation = glEnableClientState,\n",
                        "\tcArguments = (GL_VERTEX_ARRAY,)\n",
                        ")\n",
                        "  debug.printExc()\n"
                    ]
                },
                {
                    "ename": "GLError",
                    "evalue": "GLError(\n\terr = 1282,\n\tdescription = b'invalid operation',\n\tbaseOperation = glMatrixMode,\n\tcArguments = (GL_MODELVIEW,)\n)",
                    "output_type": "error",
                    "traceback": [
                        "\u001b[31m---------------------------------------------------------------------------\u001b[39m",
                        "\u001b[31mGLError\u001b[39m                                   Traceback (most recent call last)",
                        "\u001b[36mFile \u001b[39m\u001b[32mc:\\Users\\maxgunn\\Desktop\\2025 Fall Classes\\Robotics\\CodeBase\\.venv\\Lib\\site-packages\\pyqtgraph\\opengl\\GLViewWidget.py:242\u001b[39m, in \u001b[36mGLViewMixin.drawItemTree\u001b[39m\u001b[34m(self, item, useItemNames)\u001b[39m\n\u001b[32m    241\u001b[39m     glMultMatrixf(np.array(tr.data(), dtype=np.float32))\n\u001b[32m--> \u001b[39m\u001b[32m242\u001b[39m     \u001b[38;5;28;43mself\u001b[39;49m\u001b[43m.\u001b[49m\u001b[43mdrawItemTree\u001b[49m\u001b[43m(\u001b[49m\u001b[43mi\u001b[49m\u001b[43m,\u001b[49m\u001b[43m \u001b[49m\u001b[43museItemNames\u001b[49m\u001b[43m=\u001b[49m\u001b[43museItemNames\u001b[49m\u001b[43m)\u001b[49m\n\u001b[32m    243\u001b[39m \u001b[38;5;28;01mfinally\u001b[39;00m:\n",
                        "\u001b[36mFile \u001b[39m\u001b[32mc:\\Users\\maxgunn\\Desktop\\2025 Fall Classes\\Robotics\\CodeBase\\.venv\\Lib\\site-packages\\pyqtgraph\\opengl\\GLViewWidget.py:235\u001b[39m, in \u001b[36mGLViewMixin.drawItemTree\u001b[39m\u001b[34m(self, item, useItemNames)\u001b[39m\n\u001b[32m    234\u001b[39m     \u001b[38;5;28;01mfinally\u001b[39;00m:\n\u001b[32m--> \u001b[39m\u001b[32m235\u001b[39m         \u001b[43mglPopAttrib\u001b[49m\u001b[43m(\u001b[49m\u001b[43m)\u001b[49m\n\u001b[32m    236\u001b[39m \u001b[38;5;28;01melse\u001b[39;00m:\n",
                        "\u001b[36mFile \u001b[39m\u001b[32mc:\\Users\\maxgunn\\Desktop\\2025 Fall Classes\\Robotics\\CodeBase\\.venv\\Lib\\site-packages\\OpenGL\\error.py:230\u001b[39m, in \u001b[36m_ErrorChecker.glCheckError\u001b[39m\u001b[34m(self, result, baseOperation, cArguments, *args)\u001b[39m\n\u001b[32m    229\u001b[39m \u001b[38;5;28;01mif\u001b[39;00m err != \u001b[38;5;28mself\u001b[39m._noErrorResult:\n\u001b[32m--> \u001b[39m\u001b[32m230\u001b[39m     \u001b[38;5;28;01mraise\u001b[39;00m \u001b[38;5;28mself\u001b[39m._errorClass(\n\u001b[32m    231\u001b[39m         err,\n\u001b[32m    232\u001b[39m         result,\n\u001b[32m    233\u001b[39m         cArguments = cArguments,\n\u001b[32m    234\u001b[39m         baseOperation = baseOperation,\n\u001b[32m    235\u001b[39m     )\n\u001b[32m    236\u001b[39m \u001b[38;5;28;01mreturn\u001b[39;00m result\n",
                        "\u001b[31mGLError\u001b[39m: GLError(\n\terr = 1282,\n\tdescription = b'invalid operation',\n\tbaseOperation = glPopAttrib,\n\tcArguments = ()\n)",
                        "\nDuring handling of the above exception, another exception occurred:\n",
                        "\u001b[31mGLError\u001b[39m                                   Traceback (most recent call last)",
                        "\u001b[36mFile \u001b[39m\u001b[32mc:\\Users\\maxgunn\\Desktop\\2025 Fall Classes\\Robotics\\CodeBase\\.venv\\Lib\\site-packages\\pyqtgraph\\opengl\\GLViewWidget.py:210\u001b[39m, in \u001b[36mGLViewMixin.paintGL\u001b[39m\u001b[34m(self, region, viewport, useItemNames)\u001b[39m\n\u001b[32m    208\u001b[39m glClearColor(*bgcolor)\n\u001b[32m    209\u001b[39m glClear( GL_DEPTH_BUFFER_BIT | GL_COLOR_BUFFER_BIT )\n\u001b[32m--> \u001b[39m\u001b[32m210\u001b[39m \u001b[38;5;28;43mself\u001b[39;49m\u001b[43m.\u001b[49m\u001b[43mdrawItemTree\u001b[49m\u001b[43m(\u001b[49m\u001b[43museItemNames\u001b[49m\u001b[43m=\u001b[49m\u001b[43museItemNames\u001b[49m\u001b[43m)\u001b[49m\n",
                        "\u001b[36mFile \u001b[39m\u001b[32mc:\\Users\\maxgunn\\Desktop\\2025 Fall Classes\\Robotics\\CodeBase\\.venv\\Lib\\site-packages\\pyqtgraph\\opengl\\GLViewWidget.py:244\u001b[39m, in \u001b[36mGLViewMixin.drawItemTree\u001b[39m\u001b[34m(self, item, useItemNames)\u001b[39m\n\u001b[32m    242\u001b[39m     \u001b[38;5;28mself\u001b[39m.drawItemTree(i, useItemNames=useItemNames)\n\u001b[32m    243\u001b[39m \u001b[38;5;28;01mfinally\u001b[39;00m:\n\u001b[32m--> \u001b[39m\u001b[32m244\u001b[39m     \u001b[43mglMatrixMode\u001b[49m\u001b[43m(\u001b[49m\u001b[43mGL_MODELVIEW\u001b[49m\u001b[43m)\u001b[49m\n\u001b[32m    245\u001b[39m     glPopMatrix()\n",
                        "\u001b[36mFile \u001b[39m\u001b[32mc:\\Users\\maxgunn\\Desktop\\2025 Fall Classes\\Robotics\\CodeBase\\.venv\\Lib\\site-packages\\OpenGL\\error.py:230\u001b[39m, in \u001b[36m_ErrorChecker.glCheckError\u001b[39m\u001b[34m(self, result, baseOperation, cArguments, *args)\u001b[39m\n\u001b[32m    228\u001b[39m err = \u001b[38;5;28mself\u001b[39m._currentChecker()\n\u001b[32m    229\u001b[39m \u001b[38;5;28;01mif\u001b[39;00m err != \u001b[38;5;28mself\u001b[39m._noErrorResult:\n\u001b[32m--> \u001b[39m\u001b[32m230\u001b[39m     \u001b[38;5;28;01mraise\u001b[39;00m \u001b[38;5;28mself\u001b[39m._errorClass(\n\u001b[32m    231\u001b[39m         err,\n\u001b[32m    232\u001b[39m         result,\n\u001b[32m    233\u001b[39m         cArguments = cArguments,\n\u001b[32m    234\u001b[39m         baseOperation = baseOperation,\n\u001b[32m    235\u001b[39m     )\n\u001b[32m    236\u001b[39m \u001b[38;5;28;01mreturn\u001b[39;00m result\n",
                        "\u001b[31mGLError\u001b[39m: GLError(\n\terr = 1282,\n\tdescription = b'invalid operation',\n\tbaseOperation = glMatrixMode,\n\tcArguments = (GL_MODELVIEW,)\n)"
                    ]
                }
            ],
            "source": [
                "import time\n",
                "from visualization import VizScene \n",
                "\n",
                "viz = VizScene()\n",
                "viz.add_frame(np.eye(4), label='world', axes_label='w')\n",
                "viz.add_frame(np.eye(4), label='frame1', axes_label='f1')\n",
                "\n",
                "time_to_run = 10 # seconds\n",
                "refresh_rate = 60 # Hz\n",
                "t = 0\n",
                "start = time.time()\n",
                "\n",
                "while t < time_to_run:\n",
                "    t = time.time() - start\n",
                "\n",
                "    Tw_to_frame1 = np.eye(4)\n",
                "\n",
                "    # you can play with omega and p to see how they affect the frame\n",
                "    omega = np.pi/2\n",
                "    R = tr.roty(10/180.0*np.pi * t)\n",
                "\n",
                "    p = np.array([1, 0, 0])\n",
                "\n",
                "    Tw_to_frame1[:3,:3] = R\n",
                "    Tw_to_frame1[:3, 3] = p\n",
                "\n",
                "    viz.update(As=[np.eye(4), Tw_to_frame1])\n",
                "\n",
                "viz.hold()\n",
                "\n",
                "# now you can use functions like \"VizScene\" and \"add_frame\" \n",
                "# as demonstrated in HW 01 to animate a frame.  \n"
            ]
        },
        {
            "cell_type": "markdown",
            "metadata": {},
            "source": [
                "**Problem 2**  \n",
                "For the rest of the problems in this homework, you may either continue using the notebook, make your own Python script, or do some problems by hand (whichever you prefer).  \n",
                "\n",
                "I strongly recommend using **SymPy** as it will come in handy for future homework. To better understand the capabilities of symbolic manipulation with the SymPy library, please run the **`sympy_tutorial.ipynb`** file from the class homework repository.  \n",
                "\n",
                "You may find it especially useful to define symbolic variables (such as **θ, φ, ψ**) for some problems. Mixing data types like **`numpy.array`** objects (used in **`transforms.py`**) and **SymPy `Matrix`** objects (demonstrated in **`sympy_tutorial.ipynb`**) does not work well. However, in some cases, using symbolic variables is still useful and worthwhile.  \n",
                "\n",
                "This problem is **graded by completion** if you step through each part of the SymPy introduction."
            ]
        },
        {
            "cell_type": "code",
            "execution_count": 32,
            "metadata": {},
            "outputs": [
                {
                    "name": "stdout",
                    "output_type": "stream",
                    "text": [
                        "Done\n"
                    ]
                }
            ],
            "source": [
                "print(\"Done\")"
            ]
        },
        {
            "cell_type": "markdown",
            "metadata": {},
            "source": [
                "**Problem 3**  \n",
                "Consider the following sequences of rotations and write the matrix product that will give the resulting rotation matrix (don't perform the operation, just write the correct order -e.g. $R_x(\\alpha)R_y(\\beta)$ etc.):  \n",
                "  \n",
                "(a) rotate by $\\phi$ in the **x-axis**, $\\theta$ in the **z-axis**, then $\\psi$ in the **y-axis** all in the current frame.  \n",
                "(b) rotate by $\\phi$ in the **x-axis**, $\\theta$ in the **z-axis**, then $\\psi$ in the **y-axis** all in the fixed world frame.\n"
            ]
        },
        {
            "cell_type": "markdown",
            "metadata": {},
            "source": [
                "**Answer**  \n",
                "$$(a)\\quad R = R_{x}(\\phi) \\, R_{z}(\\theta) \\, R_{y}(\\psi) \\\\\n",
                "(b)\\quad R = R_{y}(\\psi) \\, R_{z}(\\theta) \\, R_{x}(\\phi)$$\n"
            ]
        },
        {
            "cell_type": "markdown",
            "metadata": {},
            "source": [
                "**Problem 4**  \n",
                "A camera has its **z-axis** parallel to the vector **[0, 1, 0]** in the world frame, and its **y-axis** parallel to the vector **[0, 0, −1]**.  \n",
                "\n",
                "What is the **attitude of the camera** with respect to the world frame expressed as a **rotation matrix**?\n"
            ]
        },
        {
            "cell_type": "code",
            "execution_count": 33,
            "metadata": {},
            "outputs": [
                {
                    "name": "stdout",
                    "output_type": "stream",
                    "text": [
                        "Attitude of the camera (R^w_c):\n",
                        " [[ 1  0  0]\n",
                        " [ 0  0  1]\n",
                        " [ 0 -1  0]]\n"
                    ]
                }
            ],
            "source": [
                "import numpy as np\n",
                "\n",
                "# Define the camera's axes in world frame coordinates\n",
                "z_c = np.array([0, 1, 0])\n",
                "\n",
                "# The camera's y-axis is parallel to the world's negative z-axis [0, 0, -1]\n",
                "y_c = np.array([0, 0, -1])\n",
                "\n",
                "# For a right-handed coordinate system, the x-axis is found by the cross product: x = y x z\n",
                "x_c = np.cross(y_c, z_c)\n",
                "\n",
                "R_w_c = np.column_stack((x_c, y_c, z_c))\n",
                "\n",
                "print(\"Attitude of the camera (R^w_c):\\n\", R_w_c)"
            ]
        },
        {
            "cell_type": "markdown",
            "metadata": {},
            "source": [
                "**Problem 5**  \n",
                "If coordinate frame **o₁** is obtained by rotating coordinate frame **o₀** by **π/2** about the **x-axis**, followed by a rotation of **π/2** about the **y-axis**, find the **rotation matrix R** that represents the composite transformation.  \n",
                "\n",
                "Sketch the initial and final frames (or use the **`addframe`** function again).  \n",
                "This is for **rotations about a fixed axis**.\n"
            ]
        },
        {
            "cell_type": "code",
            "execution_count": 34,
            "metadata": {},
            "outputs": [
                {
                    "name": "stdout",
                    "output_type": "stream",
                    "text": [
                        "Composite rotation matrix R = R_y(pi/2) * R_x(pi/2):\n",
                        " [[ 0.  1.  0.]\n",
                        " [ 0.  0. -1.]\n",
                        " [-1.  0.  0.]]\n"
                    ]
                }
            ],
            "source": [
                "import numpy as np\n",
                "\n",
                "# Define 3D rotation matrix functions (from Problem 1)\n",
                "def rotx(theta):\n",
                "    c, s = np.cos(theta), np.sin(theta)\n",
                "    return np.array([[1, 0, 0], [0, c, -s], [0, s, c]])\n",
                "\n",
                "def roty(theta):\n",
                "    c, s = np.cos(theta), np.sin(theta)\n",
                "    return np.array([[c, 0, s], [0, 1, 0], [-s, 0, c]])\n",
                "\n",
                "# Define the rotation angles\n",
                "theta_x = np.pi / 2\n",
                "theta_y = np.pi / 2\n",
                "\n",
                "# Calculate the individual rotation matrices\n",
                "R_x = rotx(theta_x)\n",
                "R_y = roty(theta_y)\n",
                "\n",
                "# For rotations about a fixed world axis, the composite transformation\n",
                "# is found by pre-multiplying. The rotation about x occurs first,\n",
                "# so the multiplication order is R_y * R_x.\n",
                "R_composite = R_y @ R_x\n",
                "\n",
                "# Use np.round to clean up floating point inaccuracies for display\n",
                "print(\"Composite rotation matrix R = R_y(pi/2) * R_x(pi/2):\\n\", np.round(R_composite, decimals=5))"
            ]
        },
        {
            "cell_type": "markdown",
            "metadata": {},
            "source": [
                "**Problem 6**  \n",
                "Suppose three coordinate frames (**o₁, o₂, o₃**) are given, and that:\n",
                "\n",
                "\\[\n",
                "R^1_2 =\n",
                "\\begin{bmatrix}\n",
                "1 & 0 & 0 \\\\\n",
                "0 & \\tfrac{1}{2} & -\\tfrac{\\sqrt{3}}{2} \\\\\n",
                "0 & \\tfrac{\\sqrt{3}}{2} & \\tfrac{1}{2}\n",
                "\\end{bmatrix}, \\quad\n",
                "R^1_3 =\n",
                "\\begin{bmatrix}\n",
                "0 & 0 & -1 \\\\\n",
                "0 & 1 & 0 \\\\\n",
                "1 & 0 & 0\n",
                "\\end{bmatrix}\n",
                "\\]\n",
                "\n",
                "Find the matrix **R²₃**.\n"
            ]
        },
        {
            "cell_type": "code",
            "execution_count": 35,
            "metadata": {},
            "outputs": [
                {
                    "name": "stdout",
                    "output_type": "stream",
                    "text": [
                        "The matrix R^2_3 is:\n",
                        " [[ 0.         0.        -1.       ]\n",
                        " [ 0.8660254  0.5        0.       ]\n",
                        " [ 0.5       -0.8660254  0.       ]]\n"
                    ]
                }
            ],
            "source": [
                "import numpy as np\n",
                "\n",
                "# Given rotation matrices\n",
                "R1_2 = np.array([[1, 0,           0          ],\n",
                "                 [0, 1/2,        -np.sqrt(3)/2],\n",
                "                 [0, np.sqrt(3)/2, 1/2        ]])\n",
                "\n",
                "R1_3 = np.array([[0, 0, -1],\n",
                "                 [0, 1,  0],\n",
                "                 [1, 0,  0]])\n",
                "\n",
                "# We have the relationship: R^1_3 = R^1_2 * R^2_3\n",
                "\n",
                "# The inverse of a rotation matrix is its transpose\n",
                "R2_1 = R1_2.T  # This is equivalent to (R^1_2)^-1\n",
                "\n",
                "# Calculate R^2_3 by matrix multiplication\n",
                "R2_3 = R2_1 @ R1_3\n",
                "\n",
                "print(\"The matrix R^2_3 is:\\n\", R2_3)"
            ]
        },
        {
            "cell_type": "markdown",
            "metadata": {},
            "source": [
                "**Problem 7**  \n",
                "Compute the rotation matrix given by the following product (you may use symbolic variables to do this, and remember that **φ** and **θ** are variables, but **π** is a numerical value that should be evaluated):\n",
                "\n",
                "$$R_{x, \\theta} \\, R_{y, \\phi} \\, R_{z, \\pi} \\, R_{y, -\\phi} \\, R_{x, -\\theta}$$\n"
            ]
        },
        {
            "cell_type": "code",
            "execution_count": 46,
            "metadata": {},
            "outputs": [
                {
                    "name": "stdout",
                    "output_type": "stream",
                    "text": [
                        "Rotation matrix:\n",
                        "⎡      2         2                                                             ↪\n",
                        "⎢   sin (φ) - cos (φ)                       -2⋅sin(φ)⋅sin(θ)⋅cos(φ)            ↪\n",
                        "⎢                                                                              ↪\n",
                        "⎢                               ⎛   2                       2   ⎞              ↪\n",
                        "⎢-2⋅sin(φ)⋅sin(θ)⋅cos(φ)      - ⎝sin (φ)⋅sin(θ) - sin(θ)⋅cos (φ)⎠⋅sin(θ) - cos ↪\n",
                        "⎢                                                                              ↪\n",
                        "⎢                           ⎛     2                2          ⎞                ↪\n",
                        "⎣2⋅sin(φ)⋅cos(φ)⋅cos(θ)   - ⎝- sin (φ)⋅cos(θ) + cos (φ)⋅cos(θ)⎠⋅sin(θ) - sin(θ ↪\n",
                        "\n",
                        "↪                                                                   ⎤\n",
                        "↪                            2⋅sin(φ)⋅cos(φ)⋅cos(θ)                 ⎥\n",
                        "↪                                                                   ⎥\n",
                        "↪ 2         ⎛   2                       2   ⎞                       ⎥\n",
                        "↪  (θ)      ⎝sin (φ)⋅sin(θ) - sin(θ)⋅cos (φ)⎠⋅cos(θ) - sin(θ)⋅cos(θ)⎥\n",
                        "↪                                                                   ⎥\n",
                        "↪             ⎛     2                2          ⎞             2     ⎥\n",
                        "↪ )⋅cos(θ)    ⎝- sin (φ)⋅cos(θ) + cos (φ)⋅cos(θ)⎠⋅cos(θ) - sin (θ)  ⎦\n"
                    ]
                }
            ],
            "source": [
                "import sympy as sp\n",
                "\n",
                "# Define symbolic variables\n",
                "theta, phi = sp.symbols('theta phi', real=True)\n",
                "\n",
                "# Define rotation matrices\n",
                "def R_x(a):\n",
                "    return sp.Matrix([\n",
                "        [1, 0, 0],\n",
                "        [0, sp.cos(a), -sp.sin(a)],\n",
                "        [0, sp.sin(a), sp.cos(a)]\n",
                "    ])\n",
                "\n",
                "def R_y(a):\n",
                "    return sp.Matrix([\n",
                "        [sp.cos(a), 0, sp.sin(a)],\n",
                "        [0, 1, 0],\n",
                "        [-sp.sin(a), 0, sp.cos(a)]\n",
                "    ])\n",
                "\n",
                "def R_z(a):\n",
                "    return sp.Matrix([\n",
                "        [sp.cos(a), -sp.sin(a), 0],\n",
                "        [sp.sin(a), sp.cos(a), 0],\n",
                "        [0, 0, 1]\n",
                "    ])\n",
                "\n",
                "# Build the product\n",
                "R = R_x(theta) * R_y(phi) * R_z(sp.pi) * R_y(-phi) * R_x(-theta)\n",
                "\n",
                "# Force it into basic sin/cos form\n",
                "R_clean = sp.expand_trig(R)   # expand cos(2φ), sin(2φ), etc.\n",
                "R_clean = sp.factor(R_clean)  # optional: factor neatness\n",
                "\n",
                "print(\"Rotation matrix:\")\n",
                "sp.pprint(R_clean, use_unicode=True)\n"
            ]
        },
        {
            "cell_type": "markdown",
            "metadata": {},
            "source": [
                "**Problem 8**  \n",
                "Find the rotation matrix corresponding to the Euler angles **φ = π/2**, **θ = 0**, and **ψ = π/4**, about the **Z, then Y, then Z axes**.  \n",
                "\n",
                "What is the **direction of the new x-axis** relative to the base frame?\n"
            ]
        },
        {
            "cell_type": "code",
            "execution_count": 38,
            "metadata": {},
            "outputs": [
                {
                    "name": "stdout",
                    "output_type": "stream",
                    "text": [
                        "\n",
                        "Direction of the new x-axis:\n",
                        " [-0.70711  0.70711  0.     ]\n"
                    ]
                }
            ],
            "source": [
                "import numpy as np\n",
                "\n",
                "# Define the 3D rotation matrix function for the z-axis\n",
                "def rotz(theta):\n",
                "    c, s = np.cos(theta), np.sin(theta)\n",
                "    return np.array([[c, -s, 0], [s, c, 0], [0, 0, 1]])\n",
                "\n",
                "# Define the 3D rotation matrix function for the y-axis\n",
                "def roty(theta):\n",
                "    c, s = np.cos(theta), np.sin(theta)\n",
                "    return np.array([[c, 0, s], [0, 1, 0], [-s, 0, c]])\n",
                "\n",
                "# Given Euler angles for the Z-Y-Z convention:\n",
                "phi = np.pi / 2  # First rotation about Z\n",
                "theta = 0        # Second rotation about new Y\n",
                "psi = np.pi / 4  # Third rotation about new Z\n",
                "\n",
                "# matrix is R = R_z(phi) * R_y(theta) * R_z(psi).\n",
                "Rz_phi = rotz(phi)\n",
                "Ry_theta = roty(theta)\n",
                "Rz_psi = rotz(psi)\n",
                "\n",
                "R_total = Rz_phi @ Ry_theta @ Rz_psi\n",
                "\n",
                "# the first column of the final rotation matrix.\n",
                "new_x_axis = R_total[:, 0]\n",
                "\n",
                "#print(\"Rotation matrix for Z(pi/2) Y(0) Z(pi/4) Euler angles:\\n\", np.round(R_total, decimals=5))\n",
                "print(\"\\nDirection of the new x-axis:\\n\", np.round(new_x_axis, decimals=5))"
            ]
        },
        {
            "cell_type": "markdown",
            "metadata": {},
            "source": [
                "**Problem 9**  \n",
                "Make an **animation of a rotating coordinate frame** and either video it with a phone or screen capture for submission.  \n",
                "\n",
                "You can do this in a new Python file, or use the Jupyter notebook (building on examples from HW01). You can describe this transform using an equation like the following (but you can also pick your own as long as it results in an actual rotation matrix in the top-left 3×3 entries):\n",
                "\n",
                "\\[\n",
                "T^w_1(t) =\n",
                "\\begin{bmatrix}\n",
                "\\cos\\left(\\tfrac{\\pi}{2} t\\right) & -\\sin\\left(\\tfrac{\\pi}{2} t\\right) & 0 & 1 \\\\\n",
                "\\sin\\left(\\tfrac{\\pi}{2} t\\right) & \\cos\\left(\\tfrac{\\pi}{2} t\\right) & 0 & 0 \\\\\n",
                "0 & 0 & 1 & 0 \\\\\n",
                "0 & 0 & 0 & 1\n",
                "\\end{bmatrix}\n",
                "\\]\n",
                "\n",
                "The animation can be done using the **`addframe`** function from HW01, but by passing an additional argument to the **`viz.update()`** function as follows (where the matrix argument just tells our function how to change the frame orientation over time):\n",
                "\n",
                "```python\n",
                "viz.update(As=[np.eye(4), Tw_to_frame1])\n"
            ]
        },
        {
            "cell_type": "code",
            "execution_count": 55,
            "metadata": {},
            "outputs": [
                {
                    "name": "stdout",
                    "output_type": "stream",
                    "text": [
                        "Error while drawing item <pyqtgraph.opengl.items.GLMeshItem.GLMeshItem object at 0x0000022AD88436D0>.\n"
                    ]
                },
                {
                    "name": "stderr",
                    "output_type": "stream",
                    "text": [
                        "c:\\Users\\maxgunn\\Desktop\\2025 Fall Classes\\Robotics\\CodeBase\\.venv\\Lib\\site-packages\\pyqtgraph\\opengl\\GLViewWidget.py:231: RuntimeWarning: \n",
                        "Traceback (most recent call last):\n",
                        "  File \"<frozen runpy>\", line 198, in _run_module_as_main\n",
                        "  File \"<frozen runpy>\", line 88, in _run_code\n",
                        "  File \"c:\\Users\\maxgunn\\Desktop\\2025 Fall Classes\\Robotics\\CodeBase\\.venv\\Lib\\site-packages\\ipykernel_launcher.py\", line 18, in <module>\n",
                        "    app.launch_new_instance()\n",
                        "  File \"c:\\Users\\maxgunn\\Desktop\\2025 Fall Classes\\Robotics\\CodeBase\\.venv\\Lib\\site-packages\\traitlets\\config\\application.py\", line 1075, in launch_instance\n",
                        "    app.start()\n",
                        "  File \"c:\\Users\\maxgunn\\Desktop\\2025 Fall Classes\\Robotics\\CodeBase\\.venv\\Lib\\site-packages\\ipykernel\\kernelapp.py\", line 739, in start\n",
                        "    self.io_loop.start()\n",
                        "  File \"c:\\Users\\maxgunn\\Desktop\\2025 Fall Classes\\Robotics\\CodeBase\\.venv\\Lib\\site-packages\\tornado\\platform\\asyncio.py\", line 211, in start\n",
                        "    self.asyncio_loop.run_forever()\n",
                        "  File \"C:\\Program Files\\WindowsApps\\PythonSoftwareFoundation.Python.3.11_3.11.2544.0_x64__qbz5n2kfra8p0\\Lib\\asyncio\\base_events.py\", line 608, in run_forever\n",
                        "    self._run_once()\n",
                        "  File \"C:\\Program Files\\WindowsApps\\PythonSoftwareFoundation.Python.3.11_3.11.2544.0_x64__qbz5n2kfra8p0\\Lib\\asyncio\\base_events.py\", line 1936, in _run_once\n",
                        "    handle._run()\n",
                        "  File \"C:\\Program Files\\WindowsApps\\PythonSoftwareFoundation.Python.3.11_3.11.2544.0_x64__qbz5n2kfra8p0\\Lib\\asyncio\\events.py\", line 84, in _run\n",
                        "    self._context.run(self._callback, *self._args)\n",
                        "  File \"c:\\Users\\maxgunn\\Desktop\\2025 Fall Classes\\Robotics\\CodeBase\\.venv\\Lib\\site-packages\\ipykernel\\kernelbase.py\", line 519, in dispatch_queue\n",
                        "    await self.process_one()\n",
                        "  File \"c:\\Users\\maxgunn\\Desktop\\2025 Fall Classes\\Robotics\\CodeBase\\.venv\\Lib\\site-packages\\ipykernel\\kernelbase.py\", line 508, in process_one\n",
                        "    await dispatch(*args)\n",
                        "  File \"c:\\Users\\maxgunn\\Desktop\\2025 Fall Classes\\Robotics\\CodeBase\\.venv\\Lib\\site-packages\\ipykernel\\kernelbase.py\", line 400, in dispatch_shell\n",
                        "    await result\n",
                        "  File \"c:\\Users\\maxgunn\\Desktop\\2025 Fall Classes\\Robotics\\CodeBase\\.venv\\Lib\\site-packages\\ipykernel\\ipkernel.py\", line 368, in execute_request\n",
                        "    await super().execute_request(stream, ident, parent)\n",
                        "  File \"c:\\Users\\maxgunn\\Desktop\\2025 Fall Classes\\Robotics\\CodeBase\\.venv\\Lib\\site-packages\\ipykernel\\kernelbase.py\", line 767, in execute_request\n",
                        "    reply_content = await reply_content\n",
                        "  File \"c:\\Users\\maxgunn\\Desktop\\2025 Fall Classes\\Robotics\\CodeBase\\.venv\\Lib\\site-packages\\ipykernel\\ipkernel.py\", line 455, in do_execute\n",
                        "    res = shell.run_cell(\n",
                        "  File \"c:\\Users\\maxgunn\\Desktop\\2025 Fall Classes\\Robotics\\CodeBase\\.venv\\Lib\\site-packages\\ipykernel\\zmqshell.py\", line 577, in run_cell\n",
                        "    return super().run_cell(*args, **kwargs)\n",
                        "  File \"c:\\Users\\maxgunn\\Desktop\\2025 Fall Classes\\Robotics\\CodeBase\\.venv\\Lib\\site-packages\\IPython\\core\\interactiveshell.py\", line 3116, in run_cell\n",
                        "    result = self._run_cell(\n",
                        "  File \"c:\\Users\\maxgunn\\Desktop\\2025 Fall Classes\\Robotics\\CodeBase\\.venv\\Lib\\site-packages\\IPython\\core\\interactiveshell.py\", line 3171, in _run_cell\n",
                        "    result = runner(coro)\n",
                        "  File \"c:\\Users\\maxgunn\\Desktop\\2025 Fall Classes\\Robotics\\CodeBase\\.venv\\Lib\\site-packages\\IPython\\core\\async_helpers.py\", line 128, in _pseudo_sync_runner\n",
                        "    coro.send(None)\n",
                        "  File \"c:\\Users\\maxgunn\\Desktop\\2025 Fall Classes\\Robotics\\CodeBase\\.venv\\Lib\\site-packages\\IPython\\core\\interactiveshell.py\", line 3394, in run_cell_async\n",
                        "    has_raised = await self.run_ast_nodes(code_ast.body, cell_name,\n",
                        "  File \"c:\\Users\\maxgunn\\Desktop\\2025 Fall Classes\\Robotics\\CodeBase\\.venv\\Lib\\site-packages\\IPython\\core\\interactiveshell.py\", line 3639, in run_ast_nodes\n",
                        "    if await self.run_code(code, result, async_=asy):\n",
                        "  File \"c:\\Users\\maxgunn\\Desktop\\2025 Fall Classes\\Robotics\\CodeBase\\.venv\\Lib\\site-packages\\IPython\\core\\interactiveshell.py\", line 3699, in run_code\n",
                        "    exec(code_obj, self.user_global_ns, self.user_ns)\n",
                        "  File \"C:\\Users\\maxgunn\\AppData\\Local\\Temp\\ipykernel_75768\\2009576077.py\", line 40, in <module>\n",
                        "    viz.update(As=[np.eye(4), Tw_to_frame1])\n",
                        "  File \"c:\\Users\\maxgunn\\Desktop\\2025 Fall Classes\\Robotics\\CodeBase\\byu_robotics_hw\\visualization.py\", line 498, in update\n",
                        "    self.app.processEvents()\n",
                        "  File \"c:\\Users\\maxgunn\\Desktop\\2025 Fall Classes\\Robotics\\CodeBase\\.venv\\Lib\\site-packages\\pyqtgraph\\opengl\\GLViewWidget.py\", line 210, in paintGL\n",
                        "    self.drawItemTree(useItemNames=useItemNames)\n",
                        "  File \"c:\\Users\\maxgunn\\Desktop\\2025 Fall Classes\\Robotics\\CodeBase\\.venv\\Lib\\site-packages\\pyqtgraph\\opengl\\GLViewWidget.py\", line 242, in drawItemTree\n",
                        "    self.drawItemTree(i, useItemNames=useItemNames)\n",
                        "  File \"c:\\Users\\maxgunn\\Desktop\\2025 Fall Classes\\Robotics\\CodeBase\\.venv\\Lib\\site-packages\\pyqtgraph\\opengl\\GLViewWidget.py\", line 231, in drawItemTree\n",
                        "    debug.printExc()\n",
                        "  --- exception caught here ---\n",
                        "  File \"c:\\Users\\maxgunn\\Desktop\\2025 Fall Classes\\Robotics\\CodeBase\\.venv\\Lib\\site-packages\\pyqtgraph\\opengl\\GLViewWidget.py\", line 228, in drawItemTree\n",
                        "    i.paint()\n",
                        "  File \"c:\\Users\\maxgunn\\Desktop\\2025 Fall Classes\\Robotics\\CodeBase\\.venv\\Lib\\site-packages\\pyqtgraph\\opengl\\items\\GLMeshItem.py\", line 175, in paint\n",
                        "    glEnableClientState(GL_VERTEX_ARRAY)\n",
                        "  File \"c:\\Users\\maxgunn\\Desktop\\2025 Fall Classes\\Robotics\\CodeBase\\.venv\\Lib\\site-packages\\OpenGL\\error.py\", line 230, in glCheckError\n",
                        "    raise self._errorClass(\n",
                        "OpenGL.error.GLError: GLError(\n",
                        "\terr = 1282,\n",
                        "\tdescription = b'invalid operation',\n",
                        "\tbaseOperation = glEnableClientState,\n",
                        "\tcArguments = (GL_VERTEX_ARRAY,)\n",
                        ")\n",
                        "  debug.printExc()\n"
                    ]
                },
                {
                    "ename": "GLError",
                    "evalue": "GLError(\n\terr = 1282,\n\tdescription = b'invalid operation',\n\tbaseOperation = glMatrixMode,\n\tcArguments = (GL_MODELVIEW,)\n)",
                    "output_type": "error",
                    "traceback": [
                        "\u001b[31m---------------------------------------------------------------------------\u001b[39m",
                        "\u001b[31mGLError\u001b[39m                                   Traceback (most recent call last)",
                        "\u001b[36mFile \u001b[39m\u001b[32mc:\\Users\\maxgunn\\Desktop\\2025 Fall Classes\\Robotics\\CodeBase\\.venv\\Lib\\site-packages\\pyqtgraph\\opengl\\GLViewWidget.py:242\u001b[39m, in \u001b[36mGLViewMixin.drawItemTree\u001b[39m\u001b[34m(self, item, useItemNames)\u001b[39m\n\u001b[32m    241\u001b[39m     glMultMatrixf(np.array(tr.data(), dtype=np.float32))\n\u001b[32m--> \u001b[39m\u001b[32m242\u001b[39m     \u001b[38;5;28;43mself\u001b[39;49m\u001b[43m.\u001b[49m\u001b[43mdrawItemTree\u001b[49m\u001b[43m(\u001b[49m\u001b[43mi\u001b[49m\u001b[43m,\u001b[49m\u001b[43m \u001b[49m\u001b[43museItemNames\u001b[49m\u001b[43m=\u001b[49m\u001b[43museItemNames\u001b[49m\u001b[43m)\u001b[49m\n\u001b[32m    243\u001b[39m \u001b[38;5;28;01mfinally\u001b[39;00m:\n",
                        "\u001b[36mFile \u001b[39m\u001b[32mc:\\Users\\maxgunn\\Desktop\\2025 Fall Classes\\Robotics\\CodeBase\\.venv\\Lib\\site-packages\\pyqtgraph\\opengl\\GLViewWidget.py:235\u001b[39m, in \u001b[36mGLViewMixin.drawItemTree\u001b[39m\u001b[34m(self, item, useItemNames)\u001b[39m\n\u001b[32m    234\u001b[39m     \u001b[38;5;28;01mfinally\u001b[39;00m:\n\u001b[32m--> \u001b[39m\u001b[32m235\u001b[39m         \u001b[43mglPopAttrib\u001b[49m\u001b[43m(\u001b[49m\u001b[43m)\u001b[49m\n\u001b[32m    236\u001b[39m \u001b[38;5;28;01melse\u001b[39;00m:\n",
                        "\u001b[36mFile \u001b[39m\u001b[32mc:\\Users\\maxgunn\\Desktop\\2025 Fall Classes\\Robotics\\CodeBase\\.venv\\Lib\\site-packages\\OpenGL\\error.py:230\u001b[39m, in \u001b[36m_ErrorChecker.glCheckError\u001b[39m\u001b[34m(self, result, baseOperation, cArguments, *args)\u001b[39m\n\u001b[32m    229\u001b[39m \u001b[38;5;28;01mif\u001b[39;00m err != \u001b[38;5;28mself\u001b[39m._noErrorResult:\n\u001b[32m--> \u001b[39m\u001b[32m230\u001b[39m     \u001b[38;5;28;01mraise\u001b[39;00m \u001b[38;5;28mself\u001b[39m._errorClass(\n\u001b[32m    231\u001b[39m         err,\n\u001b[32m    232\u001b[39m         result,\n\u001b[32m    233\u001b[39m         cArguments = cArguments,\n\u001b[32m    234\u001b[39m         baseOperation = baseOperation,\n\u001b[32m    235\u001b[39m     )\n\u001b[32m    236\u001b[39m \u001b[38;5;28;01mreturn\u001b[39;00m result\n",
                        "\u001b[31mGLError\u001b[39m: GLError(\n\terr = 1282,\n\tdescription = b'invalid operation',\n\tbaseOperation = glPopAttrib,\n\tcArguments = ()\n)",
                        "\nDuring handling of the above exception, another exception occurred:\n",
                        "\u001b[31mGLError\u001b[39m                                   Traceback (most recent call last)",
                        "\u001b[36mFile \u001b[39m\u001b[32mc:\\Users\\maxgunn\\Desktop\\2025 Fall Classes\\Robotics\\CodeBase\\.venv\\Lib\\site-packages\\pyqtgraph\\opengl\\GLViewWidget.py:210\u001b[39m, in \u001b[36mGLViewMixin.paintGL\u001b[39m\u001b[34m(self, region, viewport, useItemNames)\u001b[39m\n\u001b[32m    208\u001b[39m glClearColor(*bgcolor)\n\u001b[32m    209\u001b[39m glClear( GL_DEPTH_BUFFER_BIT | GL_COLOR_BUFFER_BIT )\n\u001b[32m--> \u001b[39m\u001b[32m210\u001b[39m \u001b[38;5;28;43mself\u001b[39;49m\u001b[43m.\u001b[49m\u001b[43mdrawItemTree\u001b[49m\u001b[43m(\u001b[49m\u001b[43museItemNames\u001b[49m\u001b[43m=\u001b[49m\u001b[43museItemNames\u001b[49m\u001b[43m)\u001b[49m\n",
                        "\u001b[36mFile \u001b[39m\u001b[32mc:\\Users\\maxgunn\\Desktop\\2025 Fall Classes\\Robotics\\CodeBase\\.venv\\Lib\\site-packages\\pyqtgraph\\opengl\\GLViewWidget.py:244\u001b[39m, in \u001b[36mGLViewMixin.drawItemTree\u001b[39m\u001b[34m(self, item, useItemNames)\u001b[39m\n\u001b[32m    242\u001b[39m     \u001b[38;5;28mself\u001b[39m.drawItemTree(i, useItemNames=useItemNames)\n\u001b[32m    243\u001b[39m \u001b[38;5;28;01mfinally\u001b[39;00m:\n\u001b[32m--> \u001b[39m\u001b[32m244\u001b[39m     \u001b[43mglMatrixMode\u001b[49m\u001b[43m(\u001b[49m\u001b[43mGL_MODELVIEW\u001b[49m\u001b[43m)\u001b[49m\n\u001b[32m    245\u001b[39m     glPopMatrix()\n",
                        "\u001b[36mFile \u001b[39m\u001b[32mc:\\Users\\maxgunn\\Desktop\\2025 Fall Classes\\Robotics\\CodeBase\\.venv\\Lib\\site-packages\\OpenGL\\error.py:230\u001b[39m, in \u001b[36m_ErrorChecker.glCheckError\u001b[39m\u001b[34m(self, result, baseOperation, cArguments, *args)\u001b[39m\n\u001b[32m    228\u001b[39m err = \u001b[38;5;28mself\u001b[39m._currentChecker()\n\u001b[32m    229\u001b[39m \u001b[38;5;28;01mif\u001b[39;00m err != \u001b[38;5;28mself\u001b[39m._noErrorResult:\n\u001b[32m--> \u001b[39m\u001b[32m230\u001b[39m     \u001b[38;5;28;01mraise\u001b[39;00m \u001b[38;5;28mself\u001b[39m._errorClass(\n\u001b[32m    231\u001b[39m         err,\n\u001b[32m    232\u001b[39m         result,\n\u001b[32m    233\u001b[39m         cArguments = cArguments,\n\u001b[32m    234\u001b[39m         baseOperation = baseOperation,\n\u001b[32m    235\u001b[39m     )\n\u001b[32m    236\u001b[39m \u001b[38;5;28;01mreturn\u001b[39;00m result\n",
                        "\u001b[31mGLError\u001b[39m: GLError(\n\terr = 1282,\n\tdescription = b'invalid operation',\n\tbaseOperation = glMatrixMode,\n\tcArguments = (GL_MODELVIEW,)\n)"
                    ]
                }
            ],
            "source": [
                "import numpy as np\n",
                "import time\n",
                "from visualization import VizScene\n",
                "\n",
                "# --- Setup the visualization ---\n",
                "Tw_to_frame1 = np.eye(4)\n",
                "viz = VizScene()\n",
                "viz.add_frame(np.eye(4), label='world', axes_label='w')\n",
                "viz.add_frame(Tw_to_frame1, label='frame1', axes_label='1')\n",
                "\n",
                "# --- Animation Loop ---\n",
                "time_to_run = 10\n",
                "refresh_rate = 60 # The target frames per second\n",
                "t = 0\n",
                "start = time.time()\n",
                "\n",
                "while t < time_to_run:\n",
                "    # Get the current elapsed time\n",
                "    t = time.time() - start\n",
                "    \n",
                "    # Define the angular velocity\n",
                "    omega = np.pi / 2\n",
                "    \n",
                "    # 1. Create the 3x3 rotation matrix as a function of time\n",
                "    R_3x3 = np.array([\n",
                "        [np.cos(omega * t), -np.sin(omega * t), 0],\n",
                "        [np.sin(omega * t),  np.cos(omega * t), 0],\n",
                "        [0,                  0,                 1]\n",
                "    ])\n",
                "    \n",
                "    # 2. Create the 3x1 position vector as a function of time for smooth motion\n",
                "    p_3x1 = np.array([1, 0, 0])\n",
                "    \n",
                "    # 3. Assemble the final 4x4 homogeneous transformation matrix\n",
                "    Tw_to_frame1 = np.eye(4)      # Start with a clean identity matrix\n",
                "    Tw_to_frame1[:3, :3] = R_3x3  # Set the rotation part\n",
                "    Tw_to_frame1[:3, 3] = p_3x1   # Set the translation part\n",
                "    \n",
                "    # 4. Update the visualization with the new matrix\n",
                "    viz.update(As=[np.eye(4), Tw_to_frame1])\n",
                "    \n",
                "    # 5. Wait for a short period to maintain the desired refresh rate\n",
                "    time.sleep(1 / refresh_rate)\n",
                "\n",
                "viz.close_viz()"
            ]
        }
    ],
    "metadata": {
        "kernelspec": {
            "display_name": ".venv",
            "language": "python",
            "name": "python3"
        },
        "language_info": {
            "codemirror_mode": {
                "name": "ipython",
                "version": 3
            },
            "file_extension": ".py",
            "mimetype": "text/x-python",
            "name": "python",
            "nbconvert_exporter": "python",
            "pygments_lexer": "ipython3",
            "version": "3.11.9"
        },
        "orig_nbformat": 4
    },
    "nbformat": 4,
    "nbformat_minor": 2
}
