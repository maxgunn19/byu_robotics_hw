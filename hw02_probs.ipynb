{
 "cells": [
  {
   "cell_type": "markdown",
   "id": "bf7bf075",
   "metadata": {},
   "source": [
    "**1. From the code available in the class homework repository, complete the steps listed in the first cell of the Jupyter notebook**  \n",
    "`hw02 test transforms.ipynb` *(remember that you can “export” this as a Python file if you would prefer)*, which include the suggested portion *(as outlined below and marked as* **TODO** *in the* `transforms.py` *file)*:\n"
   ]
  },
  {
   "cell_type": "markdown",
   "id": "4de72ed0",
   "metadata": {},
   "source": [
    "**(a)** Implement a **2×2 rotation matrix** in **SO(2)** (2D rotation).\n"
   ]
  },
  {
   "cell_type": "code",
   "execution_count": null,
   "id": "ae8fb596",
   "metadata": {},
   "outputs": [],
   "source": []
  },
  {
   "cell_type": "markdown",
   "id": "38d4b331",
   "metadata": {},
   "source": [
    "**(b)** Implement `rotx`, `roty`, and `rotz` for use with **SO(3)** (3D rotation).\n"
   ]
  },
  {
   "cell_type": "code",
   "execution_count": null,
   "id": "13848e3e",
   "metadata": {},
   "outputs": [],
   "source": []
  },
  {
   "cell_type": "markdown",
   "id": "5ab4d447",
   "metadata": {},
   "source": [
    "**(c)** Implement **matrix inversion** in **SO(2)** and **SO(3)**  \n",
    "*(remember the definition of the inverse of a rotation matrix).*\n"
   ]
  },
  {
   "cell_type": "code",
   "execution_count": null,
   "id": "e24a2566",
   "metadata": {},
   "outputs": [],
   "source": []
  },
  {
   "cell_type": "markdown",
   "id": "8e1494d4",
   "metadata": {},
   "source": [
    "**(d)** Check all implementations with the cells in the Jupyter notebook to see if they match the provided answers.  \n",
    "Iterate until they agree.\n"
   ]
  },
  {
   "cell_type": "code",
   "execution_count": null,
   "id": "69fe3787",
   "metadata": {},
   "outputs": [],
   "source": []
  },
  {
   "cell_type": "markdown",
   "id": "9efd2e55",
   "metadata": {},
   "source": [
    "**Problem 2**  \n",
    "For the rest of the problems in this homework, you may either continue using the notebook, make your own Python script, or do some problems by hand (whichever you prefer).  \n",
    "\n",
    "I strongly recommend using **SymPy** as it will come in handy for future homework. To better understand the capabilities of symbolic manipulation with the SymPy library, please run the **`sympy_tutorial.ipynb`** file from the class homework repository.  \n",
    "\n",
    "You may find it especially useful to define symbolic variables (such as **θ, φ, ψ**) for some problems. Mixing data types like **`numpy.array`** objects (used in **`transforms.py`**) and **SymPy `Matrix`** objects (demonstrated in **`sympy_tutorial.ipynb`**) does not work well. However, in some cases, using symbolic variables is still useful and worthwhile.  \n",
    "\n",
    "This problem is **graded by completion** if you step through each part of the SymPy introduction.\n"
   ]
  },
  {
   "cell_type": "code",
   "execution_count": null,
   "id": "1a5b12ad",
   "metadata": {},
   "outputs": [],
   "source": []
  },
  {
   "cell_type": "markdown",
   "id": "aa9d8995",
   "metadata": {},
   "source": [
    "**Problem 4**  \n",
    "A camera has its **z-axis** parallel to the vector **[0, 1, 0]** in the world frame, and its **y-axis** parallel to the vector **[0, 0, −1]**.  \n",
    "\n",
    "What is the **attitude of the camera** with respect to the world frame expressed as a **rotation matrix**?\n"
   ]
  },
  {
   "cell_type": "code",
   "execution_count": null,
   "id": "851966b7",
   "metadata": {},
   "outputs": [],
   "source": []
  },
  {
   "cell_type": "markdown",
   "id": "978cb13d",
   "metadata": {},
   "source": [
    "**Problem 5**  \n",
    "If coordinate frame **o₁** is obtained by rotating coordinate frame **o₀** by **π/2** about the **x-axis**, followed by a rotation of **π/2** about the **y-axis**, find the **rotation matrix R** that represents the composite transformation.  \n",
    "\n",
    "Sketch the initial and final frames (or use the **`addframe`** function again).  \n",
    "This is for **rotations about a fixed axis**.\n"
   ]
  },
  {
   "cell_type": "code",
   "execution_count": null,
   "id": "93bec6a3",
   "metadata": {},
   "outputs": [],
   "source": []
  },
  {
   "cell_type": "markdown",
   "id": "a7fc1fd6",
   "metadata": {},
   "source": [
    "**Problem 6**  \n",
    "Suppose three coordinate frames (**o₁, o₂, o₃**) are given, and that:\n",
    "\n",
    "\\[\n",
    "R^1_2 =\n",
    "\\begin{bmatrix}\n",
    "1 & 0 & 0 \\\\\n",
    "0 & \\tfrac{1}{2} & -\\tfrac{\\sqrt{3}}{2} \\\\\n",
    "0 & \\tfrac{\\sqrt{3}}{2} & \\tfrac{1}{2}\n",
    "\\end{bmatrix}, \\quad\n",
    "R^1_3 =\n",
    "\\begin{bmatrix}\n",
    "0 & 0 & -1 \\\\\n",
    "0 & 1 & 0 \\\\\n",
    "1 & 0 & 0\n",
    "\\end{bmatrix}\n",
    "\\]\n",
    "\n",
    "Find the matrix **R²₃**.\n"
   ]
  },
  {
   "cell_type": "code",
   "execution_count": null,
   "id": "c10f6a44",
   "metadata": {},
   "outputs": [],
   "source": []
  },
  {
   "cell_type": "markdown",
   "id": "0627f4c1",
   "metadata": {},
   "source": [
    "**Problem 7**  \n",
    "Compute the rotation matrix given by the following product (you may use symbolic variables to do this, and remember that **φ** and **θ** are variables, but **π** is a numerical value that should be evaluated):\n",
    "\n",
    "$$R_{x, \\theta} \\, R_{y, \\phi} \\, R_{z, \\pi} \\, R_{y, -\\phi} \\, R_{x, -\\theta}$$\n"
   ]
  },
  {
   "cell_type": "code",
   "execution_count": null,
   "id": "a63d6f51",
   "metadata": {},
   "outputs": [],
   "source": []
  },
  {
   "cell_type": "markdown",
   "id": "bbdf636e",
   "metadata": {},
   "source": [
    "**Problem 8**  \n",
    "Find the rotation matrix corresponding to the Euler angles **φ = π/2**, **θ = 0**, and **ψ = π/4**, about the **Z, then Y, then Z axes**.  \n",
    "\n",
    "What is the **direction of the new x-axis** relative to the base frame?\n"
   ]
  },
  {
   "cell_type": "code",
   "execution_count": null,
   "id": "f33299db",
   "metadata": {},
   "outputs": [],
   "source": []
  },
  {
   "cell_type": "markdown",
   "id": "18f27388",
   "metadata": {},
   "source": [
    "**Problem 9**  \n",
    "Make an **animation of a rotating coordinate frame** and either video it with a phone or screen capture for submission.  \n",
    "\n",
    "You can do this in a new Python file, or use the Jupyter notebook (building on examples from HW01). You can describe this transform using an equation like the following (but you can also pick your own as long as it results in an actual rotation matrix in the top-left 3×3 entries):\n",
    "\n",
    "\\[\n",
    "T^w_1(t) =\n",
    "\\begin{bmatrix}\n",
    "\\cos\\left(\\tfrac{\\pi}{2} t\\right) & -\\sin\\left(\\tfrac{\\pi}{2} t\\right) & 0 & 1 \\\\\n",
    "\\sin\\left(\\tfrac{\\pi}{2} t\\right) & \\cos\\left(\\tfrac{\\pi}{2} t\\right) & 0 & 0 \\\\\n",
    "0 & 0 & 1 & 0 \\\\\n",
    "0 & 0 & 0 & 1\n",
    "\\end{bmatrix}\n",
    "\\]\n",
    "\n",
    "The animation can be done using the **`addframe`** function from HW01, but by passing an additional argument to the **`viz.update()`** function as follows (where the matrix argument just tells our function how to change the frame orientation over time):\n",
    "\n",
    "```python\n",
    "viz.update(As=[np.eye(4), Tw_to_frame1])\n"
   ]
  }
 ],
 "metadata": {
  "kernelspec": {
   "display_name": ".venv",
   "language": "python",
   "name": "python3"
  },
  "language_info": {
   "codemirror_mode": {
    "name": "ipython",
    "version": 3
   },
   "file_extension": ".py",
   "mimetype": "text/x-python",
   "name": "python",
   "nbconvert_exporter": "python",
   "pygments_lexer": "ipython3",
   "version": "3.12.5"
  }
 },
 "nbformat": 4,
 "nbformat_minor": 5
}
